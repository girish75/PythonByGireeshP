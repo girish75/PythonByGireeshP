{
 "cells": [
  {
   "cell_type": "code",
   "execution_count": null,
   "id": "4dafb009",
   "metadata": {},
   "outputs": [],
   "source": [
    "#Error Handling\n",
    "# types of error: 1. Syntax error, 2. type error, 3. name error (undefined name) 4. type error (for data types) 5. index error 6. key error for dict 7. Zero division error 8. value error and so many \n",
    "\n",
    "def decoratordiv(func):\n",
    "    def wrapper(*args,*kwargs):\n",
    "        # code \n",
    "        pass\n",
    "    return wrapper\n",
    "\n",
    "\n",
    "def division():\n",
    "    \n",
    "    "
   ]
  }
 ],
 "metadata": {
  "kernelspec": {
   "display_name": "Python 3",
   "language": "python",
   "name": "python3"
  },
  "language_info": {
   "codemirror_mode": {
    "name": "ipython",
    "version": 3
   },
   "file_extension": ".py",
   "mimetype": "text/x-python",
   "name": "python",
   "nbconvert_exporter": "python",
   "pygments_lexer": "ipython3",
   "version": "3.9.4"
  }
 },
 "nbformat": 4,
 "nbformat_minor": 5
}
