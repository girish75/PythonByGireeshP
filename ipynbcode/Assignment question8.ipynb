{
 "cells": [
  {
   "cell_type": "code",
   "execution_count": 7,
   "metadata": {},
   "outputs": [
    {
     "name": "stdout",
     "output_type": "stream",
     "text": [
      "1 1 [] [] []\n"
     ]
    }
   ],
   "source": [
    "#Q8.\tGiven a list, l1 = [1, 2, 3, 4, 5, 6, 7, 8, 9], store 3 sub-lists such that those contains multiples of 2, 3 and 4 respectively. Print the lists.\n",
    "#Repeat storing and printing the lists same as above as multiples of 2, 3 and 4 but take l1 as [0, 1, 2, 3, 4, 5, 6, 7, 8, 9].\n",
    "\n",
    "l1 = [1, 2, 3, 4, 5, 6, 7, 8, 9]\n",
    "j = 1\n",
    "k = 1\n",
    "l = 1\n",
    "sublist2multiples = []\n",
    "sublist3multiples = []\n",
    "sublist4multiples = []\n",
    "print (j, k, sublist2multiples, sublist3multiples, sublist4multiples )\n",
    "\n"
   ]
  },
  {
   "cell_type": "code",
   "execution_count": null,
   "metadata": {},
   "outputs": [],
   "source": [
    "for i in l1:\n",
    "    if i == 2 or i ==3 or i == 4:\n",
    "        #create sublist\n",
    "        if i ==2 and j<=10:\n",
    "         sublist2multiples.append(i*j)   \n",
    "         j+=1\n",
    "         print (i, j, k, sublist2multiples, sublist3multiples, sublist4multiples )\n",
    "         continue\n",
    "        elif i ==3 and k<=10:\n",
    "         sublist3multiples.append(i*k)   \n",
    "         k+=1\n",
    "         print (\"1nd elif :\", i, j, k, sublist2multiples, sublist3multiples, sublist4multiples )\n",
    "         continue\n",
    "        elif i ==4 and l<=10:\n",
    "         sublist4multiples.append(i*l)   \n",
    "         l+=1\n",
    "         print (\"2nd elif :\", i, j, k, sublist2multiples, sublist3multiples, sublist4multiples )\n",
    "         continue\n",
    "    else:\n",
    "        print(\"No need to create sublist for :\", i)\n",
    "i+=1"
   ]
  }
 ],
 "metadata": {
  "kernelspec": {
   "display_name": "Python 3",
   "language": "python",
   "name": "python3"
  },
  "language_info": {
   "codemirror_mode": {
    "name": "ipython",
    "version": 3
   },
   "file_extension": ".py",
   "mimetype": "text/x-python",
   "name": "python",
   "nbconvert_exporter": "python",
   "pygments_lexer": "ipython3",
   "version": "3.9.4"
  }
 },
 "nbformat": 4,
 "nbformat_minor": 4
}
