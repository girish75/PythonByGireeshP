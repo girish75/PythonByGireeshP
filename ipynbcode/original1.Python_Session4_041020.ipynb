{
  "nbformat": 4,
  "nbformat_minor": 0,
  "metadata": {
    "colab": {
      "name": "Python_Session4_041020.ipynb",
      "provenance": []
    },
    "kernelspec": {
      "name": "python3",
      "display_name": "Python 3"
    }
  },
  "cells": [
    {
      "cell_type": "code",
      "metadata": {
        "id": "4u-GQO6X6e9X",
        "outputId": "80f6fda2-28d9-44ad-b464-7ac74d3757cd",
        "colab": {
          "base_uri": "https://localhost:8080/",
          "height": 50
        }
      },
      "source": [
        "num = 12345\n",
        "\n",
        "total = 0\n",
        "while num != 0:\n",
        "  rem = num % 10\n",
        "  total += rem\n",
        "  num //= 10\n",
        "print(num)\n",
        "print (total)"
      ],
      "execution_count": 4,
      "outputs": [
        {
          "output_type": "stream",
          "text": [
            "0\n",
            "15\n"
          ],
          "name": "stdout"
        }
      ]
    },
    {
      "cell_type": "code",
      "metadata": {
        "id": "HrpJP9207oVx",
        "outputId": "3f024c55-bf27-44c9-c6ab-5d02cba9c1a2",
        "colab": {
          "base_uri": "https://localhost:8080/",
          "height": 67
        }
      },
      "source": [
        "num = 12345\n",
        "orignum = num\n",
        "\n",
        "while num > 9:\n",
        "  total = 0\n",
        "  while num != 0:\n",
        "    rem = num % 10\n",
        "    total += rem\n",
        "    num //= 10\n",
        "  num = total\n",
        "print (\"Sum of %d is %d\\n\" %(orignum, total))\n",
        "print (\"Sum of\", orignum, \"is\", total)"
      ],
      "execution_count": 7,
      "outputs": [
        {
          "output_type": "stream",
          "text": [
            "Sum of 12345 is 6\n",
            "\n",
            "Sum of 12345 is 6\n"
          ],
          "name": "stdout"
        }
      ]
    },
    {
      "cell_type": "code",
      "metadata": {
        "id": "YsgIEVHx8M78",
        "outputId": "9a177de0-0e44-4a7d-8df7-5f5a40b32cb9",
        "colab": {
          "base_uri": "https://localhost:8080/",
          "height": 67
        }
      },
      "source": [
        "import random\n",
        "print (random.random())\n",
        "print (random.randint(1, 100))\n",
        "print (random.randrange(1, 100, 3))"
      ],
      "execution_count": 13,
      "outputs": [
        {
          "output_type": "stream",
          "text": [
            "0.6792503556300411\n",
            "89\n",
            "43\n"
          ],
          "name": "stdout"
        }
      ]
    },
    {
      "cell_type": "code",
      "metadata": {
        "id": "YlawwyMM-ug7",
        "outputId": "5dbffdc2-f30c-4785-9cb0-a736fff99ace",
        "colab": {
          "base_uri": "https://localhost:8080/",
          "height": 218
        }
      },
      "source": [
        "def draw_line():\n",
        "  'This is draw_line Function'\n",
        "  print (\"*\" * 50)\n",
        "\n",
        "num = 19\n",
        "draw_line()\n",
        "for iter in range(1, 11):\n",
        "  print(\"%02d * %02d = %03d\" % (num, iter, num * iter))\n",
        "  #print (num, \"*\", iter, \"=\", num * iter)\n",
        "draw_line()"
      ],
      "execution_count": 21,
      "outputs": [
        {
          "output_type": "stream",
          "text": [
            "**************************************************\n",
            "19 * 01 = 019\n",
            "19 * 02 = 038\n",
            "19 * 03 = 057\n",
            "19 * 04 = 076\n",
            "19 * 05 = 095\n",
            "19 * 06 = 114\n",
            "19 * 07 = 133\n",
            "19 * 08 = 152\n",
            "19 * 09 = 171\n",
            "19 * 10 = 190\n",
            "**************************************************\n"
          ],
          "name": "stdout"
        }
      ]
    },
    {
      "cell_type": "code",
      "metadata": {
        "id": "_PGX6M_8_tIp",
        "outputId": "c64d5648-8985-4cc0-e7a9-1c6c870581e9",
        "colab": {
          "base_uri": "https://localhost:8080/",
          "height": 50
        }
      },
      "source": [
        "def fibo_series(count: int):\n",
        "  n1, n2 = 1, 1\n",
        "  print (n1, n2, end = \" \")\n",
        "  cntr = 2\n",
        "  while cntr < count:\n",
        "    total = n1 + n2\n",
        "    print (total, end = \" \")\n",
        "    cntr += 1\n",
        "    n1, n2 = n2, total\n",
        "  print()\n",
        "fibo_series(10)\n",
        "fibo_series(20)"
      ],
      "execution_count": 32,
      "outputs": [
        {
          "output_type": "stream",
          "text": [
            "1 1 2 3 5 8 13 21 34 55 \n",
            "1 1 2 3 5 8 13 21 34 55 89 144 233 377 610 987 1597 2584 4181 6765 \n"
          ],
          "name": "stdout"
        }
      ]
    },
    {
      "cell_type": "code",
      "metadata": {
        "id": "qDFJQqIaCnDK",
        "outputId": "666b712c-ccf5-4bde-b75e-d8d03a0f8e5a",
        "colab": {
          "base_uri": "https://localhost:8080/",
          "height": 67
        }
      },
      "source": [
        "def sum_digits(num: int) -> int:\n",
        "  total = 0\n",
        "  while num != 0:\n",
        "    rem = num % 10\n",
        "    total += rem\n",
        "    num //= 10\n",
        "  return total\n",
        "\n",
        "num = 12345\n",
        "orignum = num\n",
        "\n",
        "while num > 9:\n",
        "  num = sum_digits(num)\n",
        " \n",
        "print (\"Sum of %d is %d\\n\" %(orignum, num))\n",
        "print (\"Sum of\", orignum, \"is\", num)"
      ],
      "execution_count": 35,
      "outputs": [
        {
          "output_type": "stream",
          "text": [
            "Sum of 12345 is 6\n",
            "\n",
            "Sum of 12345 is 6\n"
          ],
          "name": "stdout"
        }
      ]
    },
    {
      "cell_type": "code",
      "metadata": {
        "id": "ZwFQKN6gD34Y",
        "outputId": "f6a4410f-643a-4374-d167-f083c7964eb8",
        "colab": {
          "base_uri": "https://localhost:8080/",
          "height": 84
        }
      },
      "source": [
        "def sum_numbers(n1, n2, n3):\n",
        "  return n1 + n2 + n3\n",
        "\n",
        "def sum_numbers1(n1, n2, n3=30):\n",
        "  return n1 + n2 + n3\n",
        "\n",
        "def sum_numbers2(n1, n2 = 20, n3=30):\n",
        "  return n1 + n2 + n3\n",
        "\n",
        "def sum_numbers3(n1 = 10, n2 = 20, n3=30):\n",
        "  return n1 + n2 + n3\n",
        "\n",
        "res = sum_numbers(10, 20, 30)\n",
        "print (res)\n",
        "\n",
        "print(sum_numbers1(15, 25))\n",
        "print(sum_numbers2(15))\n",
        "print(sum_numbers3())"
      ],
      "execution_count": 43,
      "outputs": [
        {
          "output_type": "stream",
          "text": [
            "60\n",
            "70\n",
            "65\n",
            "60\n"
          ],
          "name": "stdout"
        }
      ]
    },
    {
      "cell_type": "code",
      "metadata": {
        "id": "zPSQDF61EsVo",
        "outputId": "87de802c-197c-40db-b8f7-79b1902d346a",
        "colab": {
          "base_uri": "https://localhost:8080/",
          "height": 118
        }
      },
      "source": [
        "def sum_numbers(n1, n2, n3):\n",
        "  print(n1, n2, n3)\n",
        "  return n1 + n2 - n3\n",
        "\n",
        "print(sum_numbers(10, 20, 30))\n",
        "print(sum_numbers(10, 30, 15))\n",
        "print(sum_numbers(n2=10, n1=30, n3=15))"
      ],
      "execution_count": 50,
      "outputs": [
        {
          "output_type": "stream",
          "text": [
            "10 20 30\n",
            "0\n",
            "10 30 15\n",
            "25\n",
            "30 10 15\n",
            "25\n"
          ],
          "name": "stdout"
        }
      ]
    },
    {
      "cell_type": "code",
      "metadata": {
        "id": "o0nHNCwNGVxn",
        "outputId": "0d60f79e-67fd-4d72-8205-d66cad44fb98",
        "colab": {
          "base_uri": "https://localhost:8080/",
          "height": 185
        }
      },
      "source": [
        "def sum_numbers(*nums):\n",
        "  print(nums, type(nums))\n",
        "  total = 0\n",
        "  for val in nums:\n",
        "    total += val\n",
        "  return total\n",
        "\n",
        "def my_input(*data):\n",
        "  print(data, type(data))\n",
        "  for index in range(len(data)):\n",
        "    print(data[index], type(data[index]))\n",
        "\n",
        "print(sum_numbers(10, 20))\n",
        "print(sum_numbers(10, 20, 30))\n",
        "print(sum_numbers(10, 20, 30, 40))\n",
        "print(sum_numbers(10, 20, 30, 40, 50))\n",
        "\n",
        "t1 = (10, \"ten\", 1234.5, {\"one\":1, \"two\":2}, [10, 20, 30, 40, 50])\n",
        "my_input(t1)"
      ],
      "execution_count": 59,
      "outputs": [
        {
          "output_type": "stream",
          "text": [
            "(10, 20) <class 'tuple'>\n",
            "30\n",
            "(10, 20, 30) <class 'tuple'>\n",
            "60\n",
            "(10, 20, 30, 40) <class 'tuple'>\n",
            "100\n",
            "(10, 20, 30, 40, 50) <class 'tuple'>\n",
            "150\n",
            "((10, 'ten', 1234.5, {'one': 1, 'two': 2}, [10, 20, 30, 40, 50]),) <class 'tuple'>\n",
            "(10, 'ten', 1234.5, {'one': 1, 'two': 2}, [10, 20, 30, 40, 50]) <class 'tuple'>\n"
          ],
          "name": "stdout"
        }
      ]
    },
    {
      "cell_type": "code",
      "metadata": {
        "id": "IWo3-IFNHgcf",
        "outputId": "86a41484-ce75-410f-c519-2f0f0177b47d",
        "colab": {
          "base_uri": "https://localhost:8080/",
          "height": 118
        }
      },
      "source": [
        "t1 = (10, \"ten\", 1234.5, {\"one\":1, \"two\":2}, [10, 20, 30, 40, 50])\n",
        "print(t1, type(t1))\n",
        "print(t1[0], type(t1[0]))\n",
        "print(t1[1], type(t1[1]))\n",
        "print(t1[2], type(t1[2]))\n",
        "print(t1[3], type(t1[3]))\n",
        "print(t1[4], type(t1[4]))"
      ],
      "execution_count": 56,
      "outputs": [
        {
          "output_type": "stream",
          "text": [
            "(10, 'ten', 1234.5, {'one': 1, 'two': 2}, [10, 20, 30, 40, 50]) <class 'tuple'>\n",
            "10 <class 'int'>\n",
            "ten <class 'str'>\n",
            "1234.5 <class 'float'>\n",
            "{'one': 1, 'two': 2} <class 'dict'>\n",
            "[10, 20, 30, 40, 50] <class 'list'>\n"
          ],
          "name": "stdout"
        }
      ]
    },
    {
      "cell_type": "code",
      "metadata": {
        "id": "HuZQzkO8IOOa",
        "outputId": "56e70a4b-bbd0-41f2-f816-41a3f0448c6e",
        "colab": {
          "base_uri": "https://localhost:8080/",
          "height": 50
        }
      },
      "source": [
        "l1 = range(10)\n",
        "print(list(l1))\n",
        "print(list(range(1, 20, 2)))"
      ],
      "execution_count": 62,
      "outputs": [
        {
          "output_type": "stream",
          "text": [
            "[0, 1, 2, 3, 4, 5, 6, 7, 8, 9]\n",
            "[1, 3, 5, 7, 9, 11, 13, 15, 17, 19]\n"
          ],
          "name": "stdout"
        }
      ]
    },
    {
      "cell_type": "code",
      "metadata": {
        "id": "geSseLCvJxWK",
        "outputId": "49b4b087-ec75-4ff6-9b02-a65261a2ded5",
        "colab": {
          "base_uri": "https://localhost:8080/",
          "height": 34
        }
      },
      "source": [
        "def concat_str(*strs):\n",
        "  cstr = \"\"\n",
        "  for s1 in strs:\n",
        "    cstr += s1\n",
        "  return cstr\n",
        "\n",
        "print(concat_str(\"This\", \"is\", \"string\"))"
      ],
      "execution_count": 65,
      "outputs": [
        {
          "output_type": "stream",
          "text": [
            "Thisisstring\n"
          ],
          "name": "stdout"
        }
      ]
    },
    {
      "cell_type": "code",
      "metadata": {
        "id": "7VlbL6aIK3IB",
        "outputId": "b3b69cb6-b219-46eb-b64c-c46c6bdd3761",
        "colab": {
          "base_uri": "https://localhost:8080/",
          "height": 34
        }
      },
      "source": [
        "def sum_numbers(cnt, *nums):\n",
        "  print(cnt, *nums)\n",
        "#def sum_numbers_notright(cnt, *nums, num):\n",
        " # print(cnt, *nums, num)\n",
        "sum_numbers(5, 10, 20, 30, 40, 50)\n",
        "#sum_numbers_notright(5, 10, 20, 30, 40, 50, 60)"
      ],
      "execution_count": 69,
      "outputs": [
        {
          "output_type": "stream",
          "text": [
            "5 10 20 30 40 50\n"
          ],
          "name": "stdout"
        }
      ]
    },
    {
      "cell_type": "code",
      "metadata": {
        "id": "w8TpJAi4LjH_",
        "outputId": "825825d2-8202-47c9-bee7-cb93af088933",
        "colab": {
          "base_uri": "https://localhost:8080/",
          "height": 84
        }
      },
      "source": [
        "def keyword_args_test(**kwargs):\n",
        "  print(kwargs, type(kwargs))\n",
        "  core, language = 0, 0\n",
        "  for lang, marks in kwargs.items():\n",
        "    if lang == \"Physics\" or lang == \"chemistry\" or lang == \"maths\":\n",
        "      core += marks\n",
        "    else:\n",
        "      language += marks\n",
        "  return core, language\n",
        "\n",
        "def keyword_args_test2(**kwargs):\n",
        "  print(kwargs, type(kwargs))\n",
        "  lres = []\n",
        "  core, language = 0, 0\n",
        "  for lang, marks in kwargs.items():\n",
        "    if lang == \"Physics\" or lang == \"chemistry\" or lang == \"maths\":\n",
        "      core += marks\n",
        "    else:\n",
        "      language += marks\n",
        "  lres.append(core)\n",
        "  lres.append(language)\n",
        "  return lres\n",
        "  \n",
        "res = keyword_args_test(Physics=80, chemistry = 100, maths=95, english=86, telugu=91)\n",
        "print(res, type(res))\n",
        "\n",
        "res = keyword_args_test2(Physics=80, chemistry = 100, maths=95, english=86, telugu=91)\n",
        "print(res, type(res))"
      ],
      "execution_count": 77,
      "outputs": [
        {
          "output_type": "stream",
          "text": [
            "{'Physics': 80, 'chemistry': 100, 'maths': 95, 'english': 86, 'telugu': 91} <class 'dict'>\n",
            "(275, 177) <class 'tuple'>\n",
            "{'Physics': 80, 'chemistry': 100, 'maths': 95, 'english': 86, 'telugu': 91} <class 'dict'>\n",
            "[275, 177] <class 'list'>\n"
          ],
          "name": "stdout"
        }
      ]
    },
    {
      "cell_type": "code",
      "metadata": {
        "id": "HJE6yfeoNzjl",
        "outputId": "3c9d80c4-5eb6-413a-efad-84c4c66aca6e",
        "colab": {
          "base_uri": "https://localhost:8080/",
          "height": 50
        }
      },
      "source": [
        "def factorial(num):\n",
        "#def factorial(num: int) -> int:\n",
        "  if num == 0 or num == 1:\n",
        "    return 1\n",
        "  return num * factorial(num - 1)\n",
        "\n",
        "print(factorial(5))\n",
        "print(factorial(6))"
      ],
      "execution_count": 79,
      "outputs": [
        {
          "output_type": "stream",
          "text": [
            "120\n",
            "720\n"
          ],
          "name": "stdout"
        }
      ]
    },
    {
      "cell_type": "code",
      "metadata": {
        "id": "4FX12zynMa8L",
        "outputId": "dee95286-c9fd-4b78-b321-032d88a1401e",
        "colab": {
          "base_uri": "https://localhost:8080/",
          "height": 134
        }
      },
      "source": [
        "def decending_order(num):\n",
        "  if num == 0:\n",
        "    return\n",
        "  print(num, end = \" \")\n",
        "  decending_order(num - 1)\n",
        "  print(\"num=\", num)\n",
        "  return\n",
        "\n",
        "def ascending_order(num):\n",
        "  if num == 0:\n",
        "    return\n",
        "  ascending_order(num - 1)\n",
        "  print(num, end = \" \") # Addr\n",
        "  return\n",
        "\n",
        "decending_order(5)\n",
        "print()\n",
        "ascending_order(5)\n",
        "print()"
      ],
      "execution_count": 90,
      "outputs": [
        {
          "output_type": "stream",
          "text": [
            "5 4 3 2 1 num= 1\n",
            "num= 2\n",
            "num= 3\n",
            "num= 4\n",
            "num= 5\n",
            "\n",
            "1 2 3 4 5 \n"
          ],
          "name": "stdout"
        }
      ]
    },
    {
      "cell_type": "code",
      "metadata": {
        "id": "X0WgN1TpTZq7",
        "outputId": "265a2ffd-a136-47fb-a1c2-0d11a49da35e",
        "colab": {
          "base_uri": "https://localhost:8080/",
          "height": 101
        }
      },
      "source": [
        "t1 = (10, \"ten\", 1234.5, {\"one\":1, \"two\":2}, [10, 20, 30, 40, 50])\n",
        "print(t1, type(t1))\n",
        "print(t1, \"data type =\" + str(type(t1)), \"10\" + \"20\")\n",
        "s1 = \"10\"\n",
        "s2 = \"20\"\n",
        "res = s1 + s2\n",
        "print(res)\n",
        "print(10 + 20)\n",
        "print (s1 + s2)"
      ],
      "execution_count": 100,
      "outputs": [
        {
          "output_type": "stream",
          "text": [
            "(10, 'ten', 1234.5, {'one': 1, 'two': 2}, [10, 20, 30, 40, 50]) <class 'tuple'>\n",
            "(10, 'ten', 1234.5, {'one': 1, 'two': 2}, [10, 20, 30, 40, 50]) data type =<class 'tuple'> 1020\n",
            "1020\n",
            "30\n",
            "1020\n"
          ],
          "name": "stdout"
        }
      ]
    },
    {
      "cell_type": "code",
      "metadata": {
        "id": "hdfNkG1DXJow",
        "outputId": "ae7333b0-b992-4076-88c2-957efa8c3671",
        "colab": {
          "base_uri": "https://localhost:8080/",
          "height": 50
        }
      },
      "source": [
        "def myfunc(val, l1):\n",
        "  print(val)\n",
        "  val += 1\n",
        "  l1.append(\"end\")\n",
        "  return val, l1\n",
        "\n",
        "v1 = 123\n",
        "list1 = [10, 20, 30, 40]\n",
        "res = myfunc(v1, list1)\n",
        "print(res)"
      ],
      "execution_count": 101,
      "outputs": [
        {
          "output_type": "stream",
          "text": [
            "123\n",
            "(124, [10, 20, 30, 40, 'end'])\n"
          ],
          "name": "stdout"
        }
      ]
    },
    {
      "cell_type": "code",
      "metadata": {
        "id": "D2PI_xGzZMR8",
        "outputId": "387973b7-a795-4ffc-d5b1-61de2ba21eee",
        "colab": {
          "base_uri": "https://localhost:8080/",
          "height": 50
        }
      },
      "source": [
        "def myfunc(val, l1):\n",
        "  print(val)\n",
        "  val += 1\n",
        "  l1.append(\"end\")\n",
        "  return\n",
        "\n",
        "v1 = 123\n",
        "list1 = [10, 20, 30, 40]\n",
        "myfunc(v1, list1)\n",
        "print(v1, list1)"
      ],
      "execution_count": 102,
      "outputs": [
        {
          "output_type": "stream",
          "text": [
            "123\n",
            "123 [10, 20, 30, 40, 'end']\n"
          ],
          "name": "stdout"
        }
      ]
    },
    {
      "cell_type": "code",
      "metadata": {
        "id": "UVl-Di1RZsOB",
        "outputId": "169f2839-ee80-4481-fda1-a971306110e0",
        "colab": {
          "base_uri": "https://localhost:8080/",
          "height": 50
        }
      },
      "source": [
        "def myfunc(val, l1):\n",
        "  val += 1\n",
        "  l1 = [1, 2, 3, 4, 5]\n",
        "  return\n",
        "\n",
        "myval = 123\n",
        "mylist = [10, 20, 30, 40]\n",
        "print(mylist)\n",
        "myfunc(myval, mylist)\n",
        "print(myval, mylist)"
      ],
      "execution_count": 106,
      "outputs": [
        {
          "output_type": "stream",
          "text": [
            "[10, 20, 30, 40]\n",
            "123 [10, 20, 30, 40]\n"
          ],
          "name": "stdout"
        }
      ]
    },
    {
      "cell_type": "code",
      "metadata": {
        "id": "uYgYD03faKrP",
        "outputId": "17b1f105-b118-4087-eb61-ef789ca6296a",
        "colab": {
          "base_uri": "https://localhost:8080/",
          "height": 34
        }
      },
      "source": [
        "def myfunc2(val, l1, l2):\n",
        "  val += 10\n",
        "  l1.append(\"LAST\")\n",
        "  l2 = [12, 23, 34, 45, 56]\n",
        "  return\n",
        "\n",
        "myv1 = 123\n",
        "myl1 = [10, 20, 30, 40, 50]\n",
        "myl2 = [100, 200, 300, 400, 500]\n",
        "myfunc2(myv1, myl1, myl2)\n",
        "print(myv1, myl1, myl2)"
      ],
      "execution_count": 108,
      "outputs": [
        {
          "output_type": "stream",
          "text": [
            "123 [10, 20, 30, 40, 50, 'LAST'] [100, 200, 300, 400, 500]\n"
          ],
          "name": "stdout"
        }
      ]
    },
    {
      "cell_type": "code",
      "metadata": {
        "id": "um9N4DthbPTn",
        "outputId": "be2d65eb-0d8e-45d0-b14b-5c3b73e9dfc9",
        "colab": {
          "base_uri": "https://localhost:8080/",
          "height": 67
        }
      },
      "source": [
        "def myfunction(val):\n",
        "  print(val)\n",
        "  global v1\n",
        "  print(v1)\n",
        "  v1 += 123\n",
        "  return\n",
        "\n",
        "v1 = 10\n",
        "v2 = 111\n",
        "myfunction(v2)\n",
        "print(v1, v2)"
      ],
      "execution_count": 113,
      "outputs": [
        {
          "output_type": "stream",
          "text": [
            "111\n",
            "10\n",
            "133 111\n"
          ],
          "name": "stdout"
        }
      ]
    },
    {
      "cell_type": "code",
      "metadata": {
        "id": "dK3ohaYUcVks"
      },
      "source": [
        ""
      ],
      "execution_count": null,
      "outputs": []
    }
  ]
}