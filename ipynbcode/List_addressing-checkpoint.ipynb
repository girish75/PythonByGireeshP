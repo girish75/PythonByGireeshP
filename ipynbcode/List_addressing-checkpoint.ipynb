{
 "cells": [
  {
   "cell_type": "code",
   "execution_count": 1,
   "metadata": {},
   "outputs": [
    {
     "name": "stdout",
     "output_type": "stream",
     "text": [
      "[1, 2, 3, 10] [1, 2, 3, 10]\n"
     ]
    }
   ],
   "source": [
    "l1 = [1, 2, 3]\n",
    "l2 = l1\n",
    "l1.append(10)\n",
    "print(l1, l2)\n"
   ]
  },
  {
   "cell_type": "code",
   "execution_count": 2,
   "metadata": {},
   "outputs": [
    {
     "name": "stdout",
     "output_type": "stream",
     "text": [
      "[1, 2, 3, 10] [1, 2, 3, 10] [1, 2, 3, 10] [1, 2, 3, 10]\n",
      "[1, 2, 3, 10, 20] [1, 2, 3, 10, 20] [1, 2, 3, 10] [1, 2, 3, 10]\n"
     ]
    }
   ],
   "source": [
    "l3, l4 = l1[:], list(l1)\n",
    "print(l1, l2, l3, l4)\n",
    "l1.append(20)\n",
    "print(l1, l2, l3, l4)\n"
   ]
  },
  {
   "cell_type": "code",
   "execution_count": 3,
   "metadata": {},
   "outputs": [
    {
     "name": "stdout",
     "output_type": "stream",
     "text": [
      "10 1797040192\n",
      "30 1797040512\n"
     ]
    }
   ],
   "source": [
    "n1 = 10\n",
    "print(n1, id(n1))\n",
    "n1 = n1 + 20\n",
    "print(n1, id(n1))\n"
   ]
  },
  {
   "cell_type": "code",
   "execution_count": 4,
   "metadata": {},
   "outputs": [
    {
     "name": "stdout",
     "output_type": "stream",
     "text": [
      "10.2345 97617280\n",
      "30.5795 97617264\n"
     ]
    }
   ],
   "source": [
    "f1 = 10.2345\n",
    "print(f1, id(f1))\n",
    "f1 = f1 + 20.345\n",
    "print(f1, id(f1))\n"
   ]
  },
  {
   "cell_type": "code",
   "execution_count": 5,
   "metadata": {},
   "outputs": [
    {
     "name": "stdout",
     "output_type": "stream",
     "text": [
      "100154464\n",
      "Hello Welcome Welcome\n",
      "97587432 100154496\n"
     ]
    }
   ],
   "source": [
    "s1 = \"Hello\"\n",
    "s2 = \"Welcome\"\n",
    "print(id(s1))\n",
    "s1 = s1 + \" \" + s2\n",
    "print(s1, s2)\n",
    "print(id(s1), id(s2))\n"
   ]
  },
  {
   "cell_type": "code",
   "execution_count": 6,
   "metadata": {},
   "outputs": [
    {
     "name": "stdout",
     "output_type": "stream",
     "text": [
      "10 20 1797040192 1797040352\n",
      "20 20 1797040352 1797040352\n",
      "True\n",
      "20 20 20\n",
      "1797040352 1797040352 1797040352\n",
      "True False\n"
     ]
    }
   ],
   "source": [
    "v1, v2 = 10, 20\n",
    "print(v1, v2, id(v1), id(v2))\n",
    "v1 += 10\n",
    "print(v1, v2, id(v1), id(v2))\n",
    "print(v1 is v2)\n",
    "v3 = v2\n",
    "print(v1, v2, v3)\n",
    "print(id(v1), id(v2), id(v3))\n",
    "print(v1 is v3, v2 is not v3)\n"
   ]
  },
  {
   "cell_type": "code",
   "execution_count": 7,
   "metadata": {},
   "outputs": [
    {
     "name": "stdout",
     "output_type": "stream",
     "text": [
      "20 20 60\n",
      "1797040352 1797040352 1797040992\n",
      "False\n",
      "[10, 20, 30, 40] [10, 20, 30] 88251848 88248904\n",
      "[10, 20, 30, 40] [10, 20, 30, 40] 88251848 88248904\n"
     ]
    }
   ],
   "source": [
    "v3 = v3 + v1 + v2\n",
    "print(v1, v2, v3)\n",
    "print(id(v1), id(v2), id(v3))\n",
    "print(v1 is v3)\n",
    "\n",
    "l1 = [10, 20, 30, 40]\n",
    "l2 = [10, 20, 30]\n",
    "print(l1, l2, id(l1), id(l2))\n",
    "l2.append(40)\n",
    "print(l1, l2, id(l1), id(l2))\n"
   ]
  },
  {
   "cell_type": "code",
   "execution_count": null,
   "metadata": {},
   "outputs": [],
   "source": []
  }
 ],
 "metadata": {
  "kernelspec": {
   "display_name": "Python 3",
   "language": "python",
   "name": "python3"
  },
  "language_info": {
   "codemirror_mode": {
    "name": "ipython",
    "version": 3
   },
   "file_extension": ".py",
   "mimetype": "text/x-python",
   "name": "python",
   "nbconvert_exporter": "python",
   "pygments_lexer": "ipython3",
   "version": "3.9.4"
  }
 },
 "nbformat": 4,
 "nbformat_minor": 4
}
