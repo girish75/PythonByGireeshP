{
 "cells": [
  {
   "cell_type": "code",
   "execution_count": null,
   "id": "e39783c9",
   "metadata": {},
   "outputs": [],
   "source": [
    "#Understanding Oops and Classes. "
   ]
  },
  {
   "cell_type": "code",
   "execution_count": 14,
   "id": "d029fd42",
   "metadata": {},
   "outputs": [
    {
     "name": "stdout",
     "output_type": "stream",
     "text": [
      "<class '__main__.player'>\n",
      "Girish 46 Cricket\n",
      "Girish 20 Cricket\n"
     ]
    }
   ],
   "source": [
    "#OOp is a paradigm. It has method and attributes or properties. \n",
    "#In python everything is an object\n",
    "class player:\n",
    "    #class object attribute, this is a static attribute and not dynamic w.r. to each object:\n",
    "    membership = True #This will remain true for all instances. \n",
    "    \n",
    "    def __init__(self, name = \"\", age = 0, gametype = \"Cricket\"): # This is a constructor which allow to construct an object at the time of instantiation. \n",
    "        # Regular Attributes or properties\n",
    "        if (player.membership and age > 18 and len(name)> 2):  #class object attribute can be accessed using name of class itself. \n",
    "            self.name = name \n",
    "            self.age = age\n",
    "            self.gametype = gametype \n",
    "#         else:\n",
    "#             print(\"Enter a valid name, age and gametype\")\n",
    "    \n",
    "    def attack(self): \n",
    "        print(self.name, self.age, self.gametype)\n",
    "\n",
    "obj = player(\"Girish\", 46, \"Cricket\")\n",
    "obj1 = player(\"Girish\", 20, \"Cricket\")\n",
    "print(type(obj))\n",
    "obj.attack()\n",
    "obj1.attack()"
   ]
  },
  {
   "cell_type": "code",
   "execution_count": 23,
   "id": "65962ce8",
   "metadata": {},
   "outputs": [
    {
     "name": "stdout",
     "output_type": "stream",
     "text": [
      "The oldest cat is 6 years old.\n"
     ]
    }
   ],
   "source": [
    "#Given the below class:\n",
    "class cat:\n",
    "    species = 'mammal'\n",
    "  \n",
    "    def __init__(self, name, age):\n",
    "        self.name = name\n",
    "        self.age = age\n",
    "        \n",
    "\n",
    "\n",
    "# 1 Instantiate the Cat object with 3 cats\n",
    "\n",
    "cat1 = cat(\"myaun\", 4)\n",
    "cat2 = cat(\"mimi\", 5)\n",
    "cat3 = cat(\"mini\", 6)\n",
    "\n",
    "# 2 Create a function that finds the oldest cat   \n",
    "def compare(*args):\n",
    "    return max(args)\n",
    "        \n",
    "\n",
    "\n",
    "# 3 Print out: \"The oldest cat is x years old.\". x will be the oldest cat age by using the function in #2\n",
    "\n",
    "print(f\"The oldest cat is {compare(cat1.age,cat2.age,cat3.age)} years old.\")"
   ]
  },
  {
   "cell_type": "code",
   "execution_count": 28,
   "id": "17683573",
   "metadata": {},
   "outputs": [
    {
     "name": "stdout",
     "output_type": "stream",
     "text": [
      "<__main__.cat object at 0x00000187A3E76730>\n",
      "Teddy 5\n"
     ]
    }
   ],
   "source": [
    "#Class Method and #Static Method - These are just for learning purpose. 95% of time these are not being used but important to learn. \n",
    "#Also learn decorater. \n",
    "# These are having differnet capabilities then normal methods. \n",
    "\n",
    "class cat:\n",
    "    species = 'mammal'#This attribute do not require an object instantiation. It can be called directly by using class. \n",
    "        \n",
    "  \n",
    "    def __init__(self, name, age):\n",
    "        self.name = name\n",
    "        self.age = age\n",
    "    \n",
    "    @classmethod # this is a decorator. \n",
    "    def adding_method(cls,num1, num2): #This method do not require an object instantiation. It can be called directly by using class. \n",
    "        #here cls is just like self a keyword. \n",
    "        return cls(\"Teddy\", num1+num2) # this instantiated an object Teddy inside a class. \n",
    "    @staticmethod #this is also \n",
    "    def adding_method(num1, num2): #This do not use cls as this a static method and do not care about state of the class.  \n",
    "        # In other words do not care about class attributes .. mentioned in __init__\n",
    "        return (num1+num2)\n",
    "    \n",
    "    \n",
    "\n",
    "print(cat.adding_method(2,3))\n",
    "\n",
    "munny = cat.adding_method(2,3) # instantiating an object using Classmethod -- very unusal way to create object. \n",
    "print(munny.name, munny.age)"
   ]
  },
  {
   "cell_type": "code",
   "execution_count": null,
   "id": "d0d5d681",
   "metadata": {},
   "outputs": [],
   "source": [
    "#conclusion- We learnt about following class structure\n",
    "# 4 pillar of OOP - A. Encapsulation B. Abstraction C. Inheritance D. Polymorphosim. \n",
    "#there is no true private variable or method but to denote a variable as private use _ (underscore) example: _name, _age\n",
    "\n",
    "'''\n",
    "class NameofClass:\n",
    "    class_object_attribute = \"value\" \n",
    "    def __init__(self, param1, param2):\n",
    "        self.param1 = param1\n",
    "        self.param2 = param2\n",
    "        \n",
    "    def method(self):\n",
    "        #code\n",
    "        \n",
    "    @classmethod\n",
    "    def cls_method(cls, param1, param2):\n",
    "        #code\n",
    "        \n",
    "    @staticmethod\n",
    "    def method(param1, param2):\n",
    "        #code\n",
    "   '''\n",
    "        "
   ]
  },
  {
   "cell_type": "code",
   "execution_count": 29,
   "id": "eb00dd0c",
   "metadata": {},
   "outputs": [
    {
     "name": "stdout",
     "output_type": "stream",
     "text": [
      "pussy is just walking around\n",
      "missy is just walking around\n",
      "tissy is just walking around\n"
     ]
    }
   ],
   "source": [
    "#Exercise: Pets Everywhere\n",
    "#Let's practice building some objects on our own and using classes. \n",
    "class Pets():\n",
    "    animals = []\n",
    "    def __init__(self, animals):\n",
    "        self.animals = animals\n",
    "\n",
    "    def walk(self): #polymorphism\n",
    "        for animal in self.animals:\n",
    "            print(animal.walk())\n",
    "\n",
    "class Cat():\n",
    "    is_lazy = True\n",
    "\n",
    "    def __init__(self, name, age):\n",
    "        self.name = name\n",
    "        self.age = age\n",
    "\n",
    "    def walk(self):#polymorphism \n",
    "        return f'{self.name} is just walking around' #interesting use of format with return and not with print. \n",
    "\n",
    "class Abyssinian(Cat): # This is dervied class from Cat class. \n",
    "    def sing(self, sounds):\n",
    "        return f'{sounds}'\n",
    "\n",
    "class Aegean(Cat): # This is dervied class from Cat class. \n",
    "    def sing(self, sounds):\n",
    "        return f'{sounds}'#interesting use of format with return and not with print. \n",
    "\n",
    "#1 Add another Cat\n",
    "class AmericanBobtail(Cat): # This is dervied class from Cat class. \n",
    "    def sing(self, sounds):\n",
    "        return f'{sounds}'#interesting use of format with return and not with print. \n",
    "\n",
    "#2 Create a list of all of the pets (create 3 cat instances from the above)\n",
    "cat1 = Abyssinian(\"pussy\", 5)\n",
    "cat2 = Aegean(\"missy\", 3)\n",
    "cat3 = AmericanBobtail(\"tissy\", 6)\n",
    "my_cats = [cat1,cat2,cat3]\n",
    "\n",
    "#3 Instantiate the Pet class with all your cats use variable my_pets\n",
    "my_pets = Pets(my_cats)\n",
    "#4 Output all of the cats walking using the my_pets instance\n",
    "my_pets.walk()"
   ]
  },
  {
   "cell_type": "code",
   "execution_count": 11,
   "id": "527b4727",
   "metadata": {},
   "outputs": [
    {
     "name": "stdout",
     "output_type": "stream",
     "text": [
      "logged in ...\n",
      "Email is  merline@gmail.com\n",
      "None\n",
      "Merline will attack with power of 50\n",
      "None\n"
     ]
    }
   ],
   "source": [
    "#Super() to call parent method. \n",
    "\n",
    "class User(object):\n",
    "    def __init__(self, email):\n",
    "        self.email = email\n",
    "        \n",
    "    def sign_in(self):\n",
    "        print(\"logged in ...\")\n",
    "        print(\"Email is \", self.email)\n",
    "        \n",
    "class Wizard(User):\n",
    "    def __init__ (self, name, power, email):\n",
    "        #super().__init__(email)\n",
    "        User.__init__(self, email)# another way-- note after User no (). \n",
    "        \n",
    "        self.name = name\n",
    "        self.power = power\n",
    "        \n",
    "    def attack(self):\n",
    "        print(f'{self.name} will attack with power of {self.power}')\n",
    "        \n",
    "        \n",
    "Wizard1 = Wizard('Merline', \"50\", \"merline@gmail.com\")\n",
    "\n",
    "print(Wizard1.sign_in())\n",
    "print(Wizard1.attack())"
   ]
  },
  {
   "cell_type": "code",
   "execution_count": 13,
   "id": "a36490d7",
   "metadata": {},
   "outputs": [
    {
     "name": "stdout",
     "output_type": "stream",
     "text": [
      "['__class__', '__delattr__', '__dict__', '__dir__', '__doc__', '__eq__', '__format__', '__ge__', '__getattribute__', '__gt__', '__hash__', '__init__', '__init_subclass__', '__le__', '__lt__', '__module__', '__ne__', '__new__', '__reduce__', '__reduce_ex__', '__repr__', '__setattr__', '__sizeof__', '__str__', '__subclasshook__', '__weakref__', 'attack', 'sign_in']\n",
      "\n",
      "\n",
      "True\n",
      "logged in ...\n",
      "Email is  merline@gmail.com\n",
      "None\n",
      "Merline will attack with power of 50\n",
      "None\n"
     ]
    }
   ],
   "source": [
    "#Introspection -examining an object in python at run time. \n",
    "\n",
    "\n",
    "class User(object):\n",
    "    def __init__(self, email):\n",
    "        self.email = email\n",
    "        \n",
    "    def sign_in(self):\n",
    "        print(\"logged in ...\")\n",
    "        print(\"Email is \", self.email)\n",
    "        \n",
    "class Wizard(User):\n",
    "    def __init__ (self, name, power, email):\n",
    "        #super().__init__(email)\n",
    "        User.__init__(self, email)# another way-- note after User no (). \n",
    "        \n",
    "        self.name = name\n",
    "        self.power = power\n",
    "        \n",
    "    def attack(self):\n",
    "        print(f'{self.name} will attack with power of {self.power}')\n",
    "        \n",
    "        \n",
    "Wizard1 = Wizard('Merline', \"50\", \"merline@gmail.com\")\n",
    "\n",
    "#Introspection commenad is dir() - after instantiating the object. If you want to know all the attributes and methods associated with that object then you can use it. \n",
    "print(dir(Wizard)) # This will return all the dunder methods from object class and attributes and methods from this and parent class\n",
    "\n",
    "print(\"\\n\")\n",
    "print(isinstance(Wizard, object)) # All objects are instance of Wizard. \n",
    "\n",
    "print(Wizard1.sign_in())\n",
    "print(Wizard1.attack())\n",
    "\n",
    "#Using Dunder Method - Python special method of python\n",
    "#Dunder or magic methods in Python are the methods having two prefix and suffix underscores in the method name.\n",
    "#Dunder here means “Double Under (Underscores)”. These are commonly used for operator overloading.\n",
    "# Few examples for magic methods are: __init__, __add__, __len__, __repr__ etc.\n",
    "#The __init__ method for initialization is invoked without any call, when an instance of a class is created, like constructors\n"
   ]
  },
  {
   "cell_type": "code",
   "execution_count": 32,
   "id": "2e5b53fe",
   "metadata": {},
   "outputs": [
    {
     "name": "stdout",
     "output_type": "stream",
     "text": [
      "['__call__', '__class__', '__delattr__', '__dict__', '__dir__', '__doc__', '__eq__', '__format__', '__ge__', '__getattribute__', '__gt__', '__hash__', '__init__', '__init_subclass__', '__le__', '__len__', '__lt__', '__module__', '__ne__', '__new__', '__reduce__', '__reduce_ex__', '__repr__', '__setattr__', '__sizeof__', '__str__', '__subclasshook__', '__weakref__', 'color', 'display', 'length', 'use']\n",
      "Blue\n",
      "Blue\n",
      "Yesss we can call the object using paranthesis\n",
      "length is5\n"
     ]
    },
    {
     "ename": "TypeError",
     "evalue": "'str' object cannot be interpreted as an integer",
     "output_type": "error",
     "traceback": [
      "\u001b[1;31m---------------------------------------------------------------------------\u001b[0m",
      "\u001b[1;31mTypeError\u001b[0m                                 Traceback (most recent call last)",
      "\u001b[1;32m<ipython-input-32-4b82a711429f>\u001b[0m in \u001b[0;36m<module>\u001b[1;34m\u001b[0m\n\u001b[0;32m     50\u001b[0m \u001b[1;31m#after overriding _str_ for a class\u001b[0m\u001b[1;33m\u001b[0m\u001b[1;33m\u001b[0m\u001b[1;33m\u001b[0m\u001b[0m\n\u001b[0;32m     51\u001b[0m \u001b[0mprint\u001b[0m\u001b[1;33m(\u001b[0m\u001b[0mballoon\u001b[0m\u001b[1;33m.\u001b[0m\u001b[0m__len__\u001b[0m\u001b[1;33m(\u001b[0m\u001b[1;33m)\u001b[0m\u001b[1;33m)\u001b[0m\u001b[1;33m\u001b[0m\u001b[1;33m\u001b[0m\u001b[0m\n\u001b[1;32m---> 52\u001b[1;33m \u001b[0mprint\u001b[0m\u001b[1;33m(\u001b[0m\u001b[0mlen\u001b[0m\u001b[1;33m(\u001b[0m\u001b[0mballoon\u001b[0m\u001b[1;33m)\u001b[0m\u001b[1;33m)\u001b[0m\u001b[1;33m\u001b[0m\u001b[1;33m\u001b[0m\u001b[0m\n\u001b[0m\u001b[0;32m     53\u001b[0m \u001b[1;33m\u001b[0m\u001b[0m\n\u001b[0;32m     54\u001b[0m \u001b[1;31m# #Not overriding _str_ for a class\u001b[0m\u001b[1;33m\u001b[0m\u001b[1;33m\u001b[0m\u001b[1;33m\u001b[0m\u001b[0m\n",
      "\u001b[1;31mTypeError\u001b[0m: 'str' object cannot be interpreted as an integer"
     ]
    }
   ],
   "source": [
    "#dunder methods\n",
    "class Toy():\n",
    "    ''' This is a toy class'''\n",
    "    def __init__(self, color, use, length):  #,breatdh, diameter\n",
    "        self.color = color\n",
    "        self.use = use\n",
    "        self.length = length\n",
    "#         self.breatdh = breatdh\n",
    "#         self.diameter = diameter\n",
    "        \n",
    "    def display():\n",
    "        print(self.color, self.use)\n",
    "        \n",
    "    def __str__(self):\n",
    "        return f'{self.color}'\n",
    "    \n",
    "    def __len__(self):\n",
    "        return f'length is{self.length}'\n",
    "\n",
    "#     def __del__(self):\n",
    "#         return f'del keyword is used to delete a variable, but it cause various bugs in our program so avoided. '\n",
    "    \n",
    "    def __call__(self):\n",
    "        return f'Yesss we can call the object using paranthesis'\n",
    "    \n",
    "class another_toy():\n",
    "    ''' This is a toy class'''\n",
    "    def __init__(self, color, use, length):  #,breatdh, diameter\n",
    "        self.color = color\n",
    "        self.use = use\n",
    "        self.length = length\n",
    "#         self.breatdh = breatdh\n",
    "#         self.diameter = diameter\n",
    "        \n",
    "   \n",
    "    \n",
    "balloon = Toy(\"Blue\",\"softtoy\", 5)\n",
    "bunny = another_toy(\"Red\", \"softtoy\",10)\n",
    "\n",
    "print(dir(balloon))\n",
    "#after overriding _str_ for a class\n",
    "print(balloon.__str__())\n",
    "print(str(balloon))\n",
    "print(balloon())\n",
    "\n",
    "#Not overriding _str_ for a class\n",
    "# print(bunny.__str__())\n",
    "# print(str(bunny))\n",
    "\n",
    "#after overriding _str_ for a class\n",
    "print(balloon.__len__())\n",
    "print(len(balloon))\n",
    "\n",
    "# #Not overriding _str_ for a class\n",
    "# print(bunny.__len__())\n",
    "# print(len(bunny))\n",
    "\n",
    "# print(\"1234\".__str__)\n",
    "# print(str(\"1234\"))\n",
    "# print(balloon.__doc__)\n",
    "\n",
    "\n",
    "#let us change behavior of __str__ for this class\n"
   ]
  },
  {
   "cell_type": "code",
   "execution_count": null,
   "id": "dcdf8e71",
   "metadata": {},
   "outputs": [],
   "source": []
  }
 ],
 "metadata": {
  "kernelspec": {
   "display_name": "Python 3",
   "language": "python",
   "name": "python3"
  },
  "language_info": {
   "codemirror_mode": {
    "name": "ipython",
    "version": 3
   },
   "file_extension": ".py",
   "mimetype": "text/x-python",
   "name": "python",
   "nbconvert_exporter": "python",
   "pygments_lexer": "ipython3",
   "version": "3.9.4"
  }
 },
 "nbformat": 4,
 "nbformat_minor": 5
}
