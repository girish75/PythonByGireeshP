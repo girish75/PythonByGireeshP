{
 "cells": [
  {
   "cell_type": "code",
   "execution_count": 3,
   "id": "15ff63f3",
   "metadata": {},
   "outputs": [
    {
     "name": "stdout",
     "output_type": "stream",
     "text": [
      "You are old enough to drive, and you have a licence\n",
      "OK\n"
     ]
    }
   ],
   "source": [
    "\"\"\" Truthy and falsy values: just refers to values which are evaluated to True or False.\n",
    "A \"truthy\" value will satisfy the check performed by if or while statements.\n",
    "We use \"truthy\" and \"falsy\" to differentiate from the bool values True and False.\n",
    "All values are considered \"truthy\" except for the following, which are \"falsy\":\n",
    "\n",
    "None\n",
    "False\n",
    "0\n",
    "0.0\n",
    "0j\n",
    "Decimal(0)\n",
    "Fraction(0, 1)\n",
    "[] - an empty list\n",
    "{} - an empty dict\n",
    "() - an empty tuple\n",
    "'' - an empty str\n",
    "b'' - an empty bytes\n",
    "set() - an empty set\n",
    "an empty range, like range(0)\n",
    "objects for which\n",
    "obj.__bool__() returns False\n",
    "obj.__len__() returns 0\n",
    "\"\"\"\n",
    "\n",
    "#Truthy and Falsy --\n",
    "\n",
    "# following are true and false value as we are assigning Bool values to variables and conditional logic is checking them later. \n",
    "\n",
    "# is_old = True\n",
    "# is_licenced = True\n",
    "\n",
    "# following are truthy and falsy value as these are interpreted as True \\ false during conditional logic by interpreter. \n",
    "\n",
    "is_old = 'Hello'\n",
    "is_licenced = 4\n",
    "\n",
    "if is_old and is_licenced:\n",
    "    print(\"You are old enough to drive, and you have a licence\")\n",
    "else:\n",
    "    print(\"you are not of age!\")\n",
    "    \n",
    "print(\"OK\")"
   ]
  },
  {
   "cell_type": "code",
   "execution_count": 4,
   "id": "7543d400",
   "metadata": {},
   "outputs": [
    {
     "name": "stdout",
     "output_type": "stream",
     "text": [
      "sent message\n"
     ]
    }
   ],
   "source": [
    "# Ternary operator\n",
    "\"\"\" python 3 - this is referred to as \"conditional_expressions\" and is very cryptically defined. \n",
    "That documentation doesn't even include the term \"ternary\",\n",
    "First condition is evaluated, then exactly one of either a or b is evaluated and returned based on the \n",
    "Boolean value of condition. If condition evaluates to True, then a is evaluated and returned but b is ignored,\n",
    "or else when b is evaluated and returned but a is ignored.\n",
    "For example:\n",
    "\n",
    ">>> 'true' if True else 'false'\n",
    "'true'\n",
    ">>> 'true' if False else 'false'\n",
    "'false'\n",
    "Note that conditionals are an expression, not a statement. This means you can't use assignment statements or pass or\n",
    "other statements within a conditional expression:\n",
    "\n",
    "If you're having trouble remembering the order, then remember that when read aloud, you (almost) say what you mean. \n",
    "For example, x = 4 if b > 8 else 9 is read aloud as >>>>\n",
    "\n",
    "\"x will be 4 if b is greater than 8 otherwise 9\".\n",
    "\n",
    "\n",
    "\"\"\"\n",
    "is_he_a_friend = True\n",
    "can_message = \"sent message\" if is_he_a_friend else \"no message sent\"\n",
    "\n",
    "print(can_message)\n"
   ]
  },
  {
   "cell_type": "code",
   "execution_count": 33,
   "id": "e3b1fa87",
   "metadata": {},
   "outputs": [
    {
     "name": "stdout",
     "output_type": "stream",
     "text": [
      "Conditional expression\n",
      "number found = 1, executed\n",
      "1 and fun(1) =  1\n",
      "0 and fun(1) =  0\n"
     ]
    }
   ],
   "source": [
    "\"\"\"Short_Circuiting behavior in operator and, or:\n",
    "Note: The following values are considered by the interpreter to mean false:\n",
    "\n",
    "        False    None    0    \"\"    ()    []     {}\n",
    "\"\"\"\n",
    "\n",
    "def fun(i):\n",
    "    print (f\"number found = {i}, executed\")\n",
    "    return i\n",
    "\n",
    "\n",
    "print(\"Conditional expression\")\n",
    "#print(\"1 or fun(1) = \",1 or fun(1))  # print(\"For above code due to short-circuiting  \\\"executed\\\" not printed\")\n",
    "print(\"1 and fun(1) = \", 1 and fun(1))  #print( \"fun(1) called and \\\"executed \\\" printed\")\n",
    "print(\"0 and fun(1) = \", 0 and fun(1))  #print(\"due to short-circuiting  \\\"executed \\\" not printed\")\n",
    "\n",
    "\n"
   ]
  },
  {
   "cell_type": "code",
   "execution_count": 42,
   "id": "f8f8a7e9",
   "metadata": {},
   "outputs": [
    {
     "name": "stdout",
     "output_type": "stream",
     "text": [
      "number found = 1, executed\n",
      "number found = 0, executed\n",
      "number found = 2, executed\n",
      "number found = 0, executed\n",
      "number found = 0, executed\n",
      "number found = 3, executed\n",
      "The function all() checks all elements are True and stops executing as soon as a False is encountered:\n",
      "number found = 0, executed\n",
      "number found = 1, executed\n",
      "number found = 0, executed\n"
     ]
    },
    {
     "data": {
      "text/plain": [
       "False"
      ]
     },
     "execution_count": 42,
     "metadata": {},
     "output_type": "execute_result"
    }
   ],
   "source": [
    "\"\"\"\n",
    "Short-circuiting behavior in function: any(), all():\n",
    "Python's any() and all() functions also support short-circuiting. \n",
    "They evaluate each element of a sequence in-order, until finding a result that allows an early exit in the evaluation. \n",
    "Consider examples below to understand both.\n",
    "The function any() checks if any element is True. It stops executing as soon as a True is encountered \n",
    "and returns True.\n",
    "\"\"\"\n",
    "any(fun(i) for i in [1, 2, 3, 4])   # bool(1) = True\n",
    "any(fun(i) for i in [0, 2, 3, 4])   \n",
    "any(fun(i) for i in [0, 0, 3, 4])\n",
    "\n",
    "print(\"The function all() checks all elements are True and stops executing as soon as a False is encountered:\")\n",
    "all(fun(i) for i in [0, 0, 3, 4])\n",
    "all(fun(i) for i in [1, 0, 3, 4])"
   ]
  },
  {
   "cell_type": "code",
   "execution_count": 44,
   "id": "6b0f6ea6",
   "metadata": {},
   "outputs": [
    {
     "name": "stdout",
     "output_type": "stream",
     "text": [
      "you need to learn magician powers.\n"
     ]
    }
   ],
   "source": [
    "# conditional logical Operators\n",
    "is_magician = False\n",
    "is_expert = True\n",
    "# check if magician AND expert : print - you are an expert magician. \n",
    "if is_magician and is_expert:\n",
    "    print (\"you are an expert magician\")\n",
    "elif is_magician and not is_expert:\n",
    "# check if magician AND not expert : print - you are a magician and hope will try to become expert. \n",
    "    print(\"you are a magician and hope will try to become expert\")\n",
    "# check if not magician  : print - you need to learn magician powers. \n",
    "elif not is_magician:\n",
    "    print(\"you need to learn magician powers.\")"
   ]
  },
  {
   "cell_type": "code",
   "execution_count": 1,
   "id": "c7c577b2",
   "metadata": {},
   "outputs": [
    {
     "name": "stdout",
     "output_type": "stream",
     "text": [
      "My name is John, and I am 36\n"
     ]
    }
   ],
   "source": [
    "age = 36\n",
    "txt = \"My name is John, and I am {}\"\n",
    "print(txt.format(age))"
   ]
  },
  {
   "cell_type": "code",
   "execution_count": null,
   "id": "0ca6e2af",
   "metadata": {},
   "outputs": [],
   "source": []
  }
 ],
 "metadata": {
  "kernelspec": {
   "display_name": "Python 3",
   "language": "python",
   "name": "python3"
  },
  "language_info": {
   "codemirror_mode": {
    "name": "ipython",
    "version": 3
   },
   "file_extension": ".py",
   "mimetype": "text/x-python",
   "name": "python",
   "nbconvert_exporter": "python",
   "pygments_lexer": "ipython3",
   "version": "3.9.4"
  }
 },
 "nbformat": 4,
 "nbformat_minor": 5
}
