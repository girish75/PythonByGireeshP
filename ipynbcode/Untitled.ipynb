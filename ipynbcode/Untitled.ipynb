{
 "cells": [
  {
   "cell_type": "code",
   "execution_count": 1,
   "id": "ad145acf",
   "metadata": {},
   "outputs": [
    {
     "name": "stdout",
     "output_type": "stream",
     "text": [
      "Enter index up to which you want to generate Fibonacci series5\n",
      "0\n",
      "1\n",
      "1\n",
      "2\n",
      "3\n"
     ]
    }
   ],
   "source": [
    "#Create Fibonacci series using generator and list and compare the performance. \n",
    "fibindex = int(input(\"Enter index up to which you want to generate Fibonacci series\"))\n",
    "\n",
    "def fib(fibindex):\n",
    "    a = 0\n",
    "    b = 1\n",
    "    for i in range(fibindex):\n",
    "        yield(a)\n",
    "        temp = a\n",
    "        a = b\n",
    "        b = temp + b\n",
    "        #raise StopIteration\n",
    "     \n",
    "                 \n",
    "for i in fib(fibindex):\n",
    "    print(i)\n",
    "\n",
    "    \n",
    "def fib(fibindex):\n",
    "    a = 0\n",
    "    b = 1\n",
    "    \n",
    "    for i in range(fibindex):\n",
    "        yield(a)\n",
    "        temp = a\n",
    "        a = b\n",
    "        b = temp + b\n",
    "        #raise StopIteration\n",
    "     \n",
    "                 \n",
    "for i in fib(fibindex):\n",
    "    print(i)"
   ]
  },
  {
   "cell_type": "code",
   "execution_count": 3,
   "id": "0939d983",
   "metadata": {},
   "outputs": [
    {
     "name": "stdout",
     "output_type": "stream",
     "text": [
      "Enter index up to which you want to generate Fibonacci series5\n",
      "0\n",
      "1\n",
      "2\n",
      "3\n",
      "4\n",
      "5\n"
     ]
    }
   ],
   "source": [
    "\n",
    "fibindex = int(input(\"Enter index up to which you want to generate Fibonacci series\"))\n",
    "\n",
    "class fibo():\n",
    "    a = 0\n",
    "    b = 1\n",
    "    \n",
    "    def __init__(self, index):\n",
    "        self.index = index\n",
    "        \n",
    "    def __iter__(self):\n",
    "        return self\n",
    "    \n",
    "    def __next__(self):\n",
    "        if fibo.a <= self.index:\n",
    "            num = fibo.a\n",
    "            fibo.a += fibo.b\n",
    "            return num\n",
    "        raise StopIteration\n",
    "        \n",
    "f = fibo(fibindex) \n",
    "for i in f:\n",
    "    print(i)"
   ]
  },
  {
   "cell_type": "code",
   "execution_count": null,
   "id": "9434c1cc",
   "metadata": {},
   "outputs": [],
   "source": []
  }
 ],
 "metadata": {
  "kernelspec": {
   "display_name": "Python 3",
   "language": "python",
   "name": "python3"
  },
  "language_info": {
   "codemirror_mode": {
    "name": "ipython",
    "version": 3
   },
   "file_extension": ".py",
   "mimetype": "text/x-python",
   "name": "python",
   "nbconvert_exporter": "python",
   "pygments_lexer": "ipython3",
   "version": "3.9.4"
  }
 },
 "nbformat": 4,
 "nbformat_minor": 5
}
