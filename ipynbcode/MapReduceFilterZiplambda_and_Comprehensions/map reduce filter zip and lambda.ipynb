{
 "cells": [
  {
   "cell_type": "code",
   "execution_count": 2,
   "id": "14ea6919",
   "metadata": {},
   "outputs": [
    {
     "ename": "TypeError",
     "evalue": "multiply_by2() takes 1 positional argument but 3 were given",
     "output_type": "error",
     "traceback": [
      "\u001b[1;31m---------------------------------------------------------------------------\u001b[0m",
      "\u001b[1;31mTypeError\u001b[0m                                 Traceback (most recent call last)",
      "\u001b[1;32m<ipython-input-2-0a3d8c126058>\u001b[0m in \u001b[0;36m<module>\u001b[1;34m\u001b[0m\n\u001b[0;32m     12\u001b[0m \u001b[1;31m#now to run this function\u001b[0m\u001b[1;33m\u001b[0m\u001b[1;33m\u001b[0m\u001b[1;33m\u001b[0m\u001b[0m\n\u001b[0;32m     13\u001b[0m \u001b[0mlist1\u001b[0m \u001b[1;33m=\u001b[0m \u001b[1;33m[\u001b[0m\u001b[1;36m1\u001b[0m\u001b[1;33m,\u001b[0m\u001b[1;36m2\u001b[0m\u001b[1;33m,\u001b[0m\u001b[1;36m3\u001b[0m\u001b[1;33m]\u001b[0m\u001b[1;33m\u001b[0m\u001b[1;33m\u001b[0m\u001b[0m\n\u001b[1;32m---> 14\u001b[1;33m \u001b[0mprint\u001b[0m\u001b[1;33m(\u001b[0m\u001b[0mmultiply_by2\u001b[0m\u001b[1;33m(\u001b[0m\u001b[1;33m*\u001b[0m\u001b[0mlist1\u001b[0m\u001b[1;33m)\u001b[0m\u001b[1;33m)\u001b[0m\u001b[1;33m\u001b[0m\u001b[1;33m\u001b[0m\u001b[0m\n\u001b[0m",
      "\u001b[1;31mTypeError\u001b[0m: multiply_by2() takes 1 positional argument but 3 were given"
     ]
    }
   ],
   "source": [
    "#Learn map filter zip reduce\n",
    "\n",
    "#suppose we are writing a code in functional programming\n",
    "def multiply_by2(lst):\n",
    "  multiply = []\n",
    "  item = 0\n",
    "  for item in lst:\n",
    "    print(item)\n",
    "    multiply.append(item*2)\n",
    "    return multiply\n",
    "\n",
    "#now to run this function \n",
    "list1 = [1,2,3]\n",
    "print(multiply_by2(list1))"
   ]
  },
  {
   "cell_type": "code",
   "execution_count": 11,
   "id": "7c1adc72",
   "metadata": {},
   "outputs": [
    {
     "name": "stdout",
     "output_type": "stream",
     "text": [
      "6\n",
      "15\n",
      "3\n",
      "[4, 9, 25, 36, 5776, 16, 9, 4]\n",
      "15\n",
      "15\n"
     ]
    }
   ],
   "source": [
    "# A lambda function can take any number of arguments, but they can return only one value in the form of expression.\n",
    "# Single one line function ,Anoymous function(no name),no def, no return\n",
    "\n",
    "# Example: Find sum of Three numbers\n",
    "# print(list(map(lambda a,b: a+b, [1,2,3,3,4,5,6,7,8,9,9,9])))\n",
    "\n",
    "add = lambda a,b,c : print(a+b+c) # How to create a function using lambda. \n",
    "add(1,2,3)\n",
    "add(4,5,6)\n",
    "\n",
    "ad = lambda a,b,c : (a+b+c) # This return the sum of three, without using return statement.\n",
    "print(ad(1,1,1))\n",
    "ad(1,1,1)\n",
    "\n",
    "# Map function with lambda\n",
    "\n",
    "nums1 = [2,3,5,6,76,4,3,2]\n",
    "sq = list(map(lambda a : a*a, nums1))\n",
    "print(sq)\n",
    "\n",
    "#Reduce function with lamda\n",
    "\n",
    "from functools import reduce\n",
    "list2 =[1,2,3,4,5]\n",
    "fins = reduce(lambda x,y:x+y, list2)\n",
    "print(fins)\n",
    "\n",
    "#o/p : 15 \n",
    "\n",
    "# reduce similar to this concept\n",
    "list2 =[1,2,3,4,5]\n",
    "adds = 0\n",
    "for i in list2:\n",
    "    adds+=i\n",
    "print(adds)"
   ]
  },
  {
   "cell_type": "code",
   "execution_count": 51,
   "id": "f0335655",
   "metadata": {},
   "outputs": [
    {
     "name": "stdout",
     "output_type": "stream",
     "text": [
      "15\n",
      "['LOKESH', 'BOB', 'TOM', 'DEVELOPER']\n",
      "['lokesh', 'Astha', 'jiu']\n",
      "['sharma', 'verma', 'rai']\n"
     ]
    }
   ],
   "source": [
    "#If with lambda function: \n",
    "lambda x: True if x % 2 == 0 else False\n",
    "\n",
    "#Find Biggest element(Nested If else in lambda)\n",
    "\n",
    "find_max = lambda a,b,c: a if a>b and a>c else (b if b>a and b>c else c) # elif is not possible. \n",
    "print(find_max(6,15,1))\n",
    "\n",
    "#MAP using - Convert all elements of list in uppercase Syntax: map(funcution, iter)\n",
    "#1\n",
    "people = [\"lokesh\", \"bob\", \"tom\", \"developer\"]\n",
    "\n",
    "upperlist = list(map(lambda x: x.upper(), people))\n",
    "#upperlist = lambda x: x.upper()\n",
    "\n",
    "print(upperlist)\n",
    "\n",
    "#2:\n",
    "names = [\n",
    "    {'first': 'lokesh', 'last': 'sharma'},\n",
    "    {'first': 'Astha', 'last': 'verma'},\n",
    "    {'first': 'jiu', 'last': 'rai'}\n",
    " ]\n",
    "\n",
    "first_names = list(map(lambda a: a['first'], names))\n",
    "last_names = list(map(lambda key: key['last'], names))\n",
    "print (first_names)\n",
    "print (last_names) #using 2 lambda functions. "
   ]
  },
  {
   "cell_type": "code",
   "execution_count": 21,
   "id": "4320f045",
   "metadata": {},
   "outputs": [
    {
     "name": "stdout",
     "output_type": "stream",
     "text": [
      "[1, 3, 5]\n",
      "[0, 2, 4]\n"
     ]
    }
   ],
   "source": [
    "# 3. Filter: Syntax: filter(fun, Iter). function has to tests if each element of a sequence true or not.\n",
    "# Filter out even and odd numbers from list\n",
    "seq = [0, 1, 2, 3, 4, 5]\n",
    "\n",
    "# result contains odd numbers of the list\n",
    "result = filter(lambda x: x % 2, seq)\n",
    "print(list(result))\n",
    "\n",
    "# result contains even numbers of the list\n",
    "result = filter(lambda x: x % 2 == 0, seq)\n",
    "print(list(result))"
   ]
  },
  {
   "cell_type": "code",
   "execution_count": 62,
   "id": "604a0c61",
   "metadata": {},
   "outputs": [
    {
     "name": "stdout",
     "output_type": "stream",
     "text": [
      "Inactive users =  [{'username': 'andy', 'tweets': []}, {'username': 'sam', 'tweets': []}]\n",
      "['lokesh', 'Astha', 'jiu']\n",
      "['sharma', 'verma', '']\n"
     ]
    }
   ],
   "source": [
    "# assignment\n",
    "# A dictionary Users(twitter database) is given in which we have username and tweets. Filter out Users which dont have any tweets/Inactive Users\n",
    "users = [\n",
    "    {\"username\": 'samuel', \"tweets\": [\"i love cake\", \"i am good\"]},\n",
    "    {\"username\": 'andy', \"tweets\": []},\n",
    "    {\"username\": 'kumal', \"tweets\": [\"India\", \"Python\"]},\n",
    "    {\"username\": 'sam', \"tweets\": []},\n",
    "    {\"username\": 'lokesh', \"tweets\": [\"i am good\"]},\n",
    "]\n",
    "\n",
    "inactive_users = list(filter(lambda key: not key['tweets'], users))\n",
    "\n",
    "print(\"Inactive users = \", inactive_users)\n",
    "\n",
    "#2:\n",
    "names = [\n",
    "    {'first': 'lokesh', 'last': 'sharma'},\n",
    "    {'first': 'Astha', 'last': 'verma'},\n",
    "    {'first': 'jiu', 'last': ''}\n",
    " ]\n",
    "\n",
    "first_names = list(map(lambda a: a['first'], names))\n",
    "last_names = list(map(lambda key: key['last'], names))\n",
    "print (first_names)\n",
    "print (last_names) #using 2 lambda functions. \n"
   ]
  },
  {
   "cell_type": "code",
   "execution_count": 70,
   "id": "10b894d7",
   "metadata": {},
   "outputs": [
    {
     "name": "stdout",
     "output_type": "stream",
     "text": [
      "['H', 'e', 'l', 'l', 'o', 'o', 'o', 'o', 'o']\n",
      "['H', 'e', 'l', 'l', 'o', 'o', 'o', 'o', 'o'] \n",
      "\n",
      "[0, 1, 2, 3, 4, 5, 6, 7, 8, 9, 10, 11, 12, 13, 14, 15, 16, 17, 18, 19, 20, 21, 22, 23, 24, 25, 26, 27, 28, 29, 30, 31, 32, 33, 34, 35, 36, 37, 38, 39, 40, 41, 42, 43, 44, 45, 46, 47, 48, 49, 50, 51, 52, 53, 54, 55, 56, 57, 58, 59, 60, 61, 62, 63, 64, 65, 66, 67, 68, 69, 70, 71, 72, 73, 74, 75, 76, 77, 78, 79, 80, 81, 82, 83, 84, 85, 86, 87, 88, 89, 90, 91, 92, 93, 94, 95, 96, 97, 98, 99] \n",
      "\n",
      "[0, 2, 4, 6, 8, 10, 12, 14, 16, 18, 20, 22, 24, 26, 28, 30, 32, 34, 36, 38, 40, 42, 44, 46, 48, 50, 52, 54, 56, 58, 60, 62, 64, 66, 68, 70, 72, 74, 76, 78, 80, 82, 84, 86, 88, 90, 92, 94, 96, 98, 100, 102, 104, 106, 108, 110, 112, 114, 116, 118, 120, 122, 124, 126, 128, 130, 132, 134, 136, 138, 140, 142, 144, 146, 148, 150, 152, 154, 156, 158, 160, 162, 164, 166, 168, 170, 172, 174, 176, 178, 180, 182, 184, 186, 188, 190, 192, 194, 196, 198] \n",
      "\n",
      "[0, 4, 16, 36, 64, 100, 144, 196, 256, 324, 400, 484, 576, 676, 784, 900, 1024, 1156, 1296, 1444, 1600, 1764, 1936, 2116, 2304, 2500, 2704, 2916, 3136, 3364, 3600, 3844, 4096, 4356, 4624, 4900, 5184, 5476, 5776, 6084, 6400, 6724, 7056, 7396, 7744, 8100, 8464, 8836, 9216, 9604] \n",
      "\n"
     ]
    }
   ],
   "source": [
    "#=== list, set, dictioinary comprehension\n",
    "# Let us see List comprehension first ==============\n",
    "\n",
    "greeting = \"Hellooooo\"\n",
    "charlist = []\n",
    "for char in greeting: \n",
    "    charlist.append(char)\n",
    "\n",
    "print(charlist)\n",
    "\n",
    "charlist1 = [char for char in greeting]\n",
    "print(charlist1, \"\\n\")\n",
    "\n",
    "numberlist = [num for num in range(0,100)]\n",
    "print(numberlist, \"\\n\")\n",
    "\n",
    "multiple2list = [num*2 for num in range(0,100)]\n",
    "print(multiple2list, \"\\n\")\n",
    "\n",
    "evenlistofsquare = [num**2 for num in range(0,100) if num %2 ==0]\n",
    "print(evenlistofsquare, \"\\n\") # Adding if logic with comprehension. ... Amazing \n"
   ]
  },
  {
   "cell_type": "code",
   "execution_count": 71,
   "id": "3b2adea8",
   "metadata": {},
   "outputs": [
    {
     "name": "stdout",
     "output_type": "stream",
     "text": [
      "['H', 'e', 'l', 'l', 'o', 'o', 'o', 'o', 'o']\n",
      "{'o', 'l', 'e', 'H'} \n",
      "\n",
      "{0, 1, 2, 3, 4, 5, 6, 7, 8, 9, 10, 11, 12, 13, 14, 15, 16, 17, 18, 19, 20, 21, 22, 23, 24, 25, 26, 27, 28, 29, 30, 31, 32, 33, 34, 35, 36, 37, 38, 39, 40, 41, 42, 43, 44, 45, 46, 47, 48, 49, 50, 51, 52, 53, 54, 55, 56, 57, 58, 59, 60, 61, 62, 63, 64, 65, 66, 67, 68, 69, 70, 71, 72, 73, 74, 75, 76, 77, 78, 79, 80, 81, 82, 83, 84, 85, 86, 87, 88, 89, 90, 91, 92, 93, 94, 95, 96, 97, 98, 99} \n",
      "\n",
      "{0, 2, 4, 6, 8, 10, 12, 14, 16, 18, 20, 22, 24, 26, 28, 30, 32, 34, 36, 38, 40, 42, 44, 46, 48, 50, 52, 54, 56, 58, 60, 62, 64, 66, 68, 70, 72, 74, 76, 78, 80, 82, 84, 86, 88, 90, 92, 94, 96, 98, 100, 102, 104, 106, 108, 110, 112, 114, 116, 118, 120, 122, 124, 126, 128, 130, 132, 134, 136, 138, 140, 142, 144, 146, 148, 150, 152, 154, 156, 158, 160, 162, 164, 166, 168, 170, 172, 174, 176, 178, 180, 182, 184, 186, 188, 190, 192, 194, 196, 198} \n",
      "\n",
      "{0, 256, 1024, 2304, 4, 900, 1156, 3844, 4096, 4356, 8836, 9604, 16, 144, 400, 784, 1296, 1936, 2704, 3600, 4624, 5776, 9216, 36, 676, 1444, 3364, 4900, 8100, 7056, 7744, 64, 576, 1600, 3136, 196, 324, 2116, 2500, 5184, 6084, 6400, 6724, 8464, 100, 484, 1764, 2916, 5476, 7396} \n",
      "\n"
     ]
    }
   ],
   "source": [
    "#=== list, set, dictioinary comprehension\n",
    "# Let us see set comprehension first ============== Set do not allow duplicates and this is unordered \n",
    "\n",
    "greeting = \"Hellooooo\"\n",
    "charlist = []\n",
    "for char in greeting: \n",
    "    charlist.append(char)\n",
    "\n",
    "print(charlist)\n",
    "\n",
    "charlist1 = {char for char in greeting}\n",
    "print(charlist1, \"\\n\")\n",
    "\n",
    "numberlist = {num for num in range(0,100)}\n",
    "print(numberlist, \"\\n\")\n",
    "\n",
    "multiple2list = {num*2 for num in range(0,100)}\n",
    "print(multiple2list, \"\\n\")\n",
    "\n",
    "evenlistofsquare = {num**2 for num in range(0,100) if num %2 ==0}\n",
    "print(evenlistofsquare, \"\\n\") # Adding if logic with comprehension. ... Amazing \n"
   ]
  },
  {
   "cell_type": "code",
   "execution_count": 77,
   "id": "67bed050",
   "metadata": {},
   "outputs": [
    {
     "name": "stdout",
     "output_type": "stream",
     "text": [
      "{'a': 2, 'b': 4}\n",
      "{'b': 4}\n"
     ]
    }
   ],
   "source": [
    "simple_dict = {\n",
    "    'a' :1, \n",
    "    'b' :2\n",
    "}\n",
    "\n",
    "another_dict = {k : v*2 for k,v in simple_dict.items()} \n",
    "#Rule - 1. use {} for dict comp, \n",
    "# 2. use dict.items() not just dictname\n",
    "\n",
    "print(another_dict)\n",
    "\n",
    "# adding if condition with comprehensions. \n",
    "another_dict = {k : v*2 for k,v in simple_dict.items() if v%2 == 0} \n",
    "print(another_dict)\n",
    "#Rule - 1. use {} for dict comp, \n",
    "# 2. use dict.items() not just dictname"
   ]
  },
  {
   "cell_type": "code",
   "execution_count": 80,
   "id": "0d76aacb",
   "metadata": {},
   "outputs": [
    {
     "name": "stdout",
     "output_type": "stream",
     "text": [
      "{1: 1, 2: 4, 3: 9, 4: 16, 5: 25}\n",
      "{1: 1, 2: 4, 3: 9, 4: 16, 5: 25, 6: 36, 7: 49, 8: 64, 9: 81}\n"
     ]
    }
   ],
   "source": [
    "# Change the list values into dict as follows \n",
    "#- existing values of the list will become the key and value will be square of it. \n",
    "\n",
    "ls = [1,2,3,4,5]\n",
    "\n",
    "lsdict = {n:n**2 for n in ls}\n",
    "print(lsdict)\n",
    "\n",
    "#another dic using range \n",
    "lsdict = {n:n**2 for n in range(1,10)}\n",
    "print(lsdict)"
   ]
  },
  {
   "cell_type": "code",
   "execution_count": 84,
   "id": "f8949fa1",
   "metadata": {},
   "outputs": [
    {
     "name": "stdout",
     "output_type": "stream",
     "text": [
      "['a', 'b', 'c', 'b', 'd', 'e', 'd', 'b']\n",
      "['b', 'd']\n",
      "['a', 'c', 'e']\n"
     ]
    }
   ],
   "source": [
    "# assignment\n",
    "\n",
    "# previous assignment- extract out duplicates from orginial list and create a non duplicate list of them. \n",
    "# Assignment solution - \n",
    "some_list = ['a','b', 'c', 'b','d', 'e', 'd','b']\n",
    "duplicate = []\n",
    "notdup = []\n",
    "for item in some_list: \n",
    "    if some_list.count(item)> 1:\n",
    "        if item not in duplicate: # note - This if will avoid multiple occurrance of value in duplicate list. \n",
    "            duplicate.append(item)\n",
    "    else:\n",
    "        notdup.append(item)\n",
    "\n",
    "print(some_list)\n",
    "print(duplicate)\n",
    "print(notdup)\n",
    "\n"
   ]
  },
  {
   "cell_type": "code",
   "execution_count": 90,
   "id": "5953966d",
   "metadata": {},
   "outputs": [
    {
     "name": "stdout",
     "output_type": "stream",
     "text": [
      "['b', 'b', 'd', 'd', 'b']\n",
      "['b', 'd']\n",
      "['b', 'd']\n"
     ]
    }
   ],
   "source": [
    "# assignment using comprehension\n",
    "\n",
    "# previous assignment- extract out duplicates from orginial list and create a non duplicate list of them. \n",
    "\n",
    "some_list = ['a','b', 'c', 'b','d', 'e', 'd','b']\n",
    "\n",
    "duplicate = [item for item in some_list if some_list.count(item)> 1 ] # problem : this way you will get duplicate tems in this list items but you want to avoid duplicates. \n",
    "print(duplicate)\n",
    "\n",
    "duplicate = list({item for item in some_list if some_list.count(item)> 1 }) # Trick - as we want to avoid duplicated items so use a set syntax {} instead of a list []\n",
    "print(duplicate)\n",
    "\n",
    "# OR \n",
    "\n",
    "duplicate = list(set([item for item in some_list if some_list.count(item)> 1 ])) # problem : this way you will get duplicate tems in this list items but you want to avoid duplicates. \n",
    "print(duplicate)"
   ]
  },
  {
   "cell_type": "code",
   "execution_count": 93,
   "id": "c1e8ec32",
   "metadata": {},
   "outputs": [
    {
     "name": "stdout",
     "output_type": "stream",
     "text": [
      "[('Manjeet', 4, 40), ('Nikhil', 1, 50), ('Shambhavi', 3, 60)]\n"
     ]
    },
    {
     "ename": "AttributeError",
     "evalue": "'dict' object has no attribute 'sort'",
     "output_type": "error",
     "traceback": [
      "\u001b[1;31m---------------------------------------------------------------------------\u001b[0m",
      "\u001b[1;31mAttributeError\u001b[0m                            Traceback (most recent call last)",
      "\u001b[1;32m<ipython-input-93-04ec35665e7b>\u001b[0m in \u001b[0;36m<module>\u001b[1;34m\u001b[0m\n\u001b[0;32m     18\u001b[0m \u001b[0mmapped\u001b[0m \u001b[1;33m=\u001b[0m \u001b[0mzip\u001b[0m\u001b[1;33m(\u001b[0m\u001b[0mroll_no\u001b[0m\u001b[1;33m,\u001b[0m \u001b[0mname\u001b[0m\u001b[1;33m)\u001b[0m\u001b[1;33m\u001b[0m\u001b[1;33m\u001b[0m\u001b[0m\n\u001b[0;32m     19\u001b[0m \u001b[1;33m\u001b[0m\u001b[0m\n\u001b[1;32m---> 20\u001b[1;33m \u001b[0mprint\u001b[0m\u001b[1;33m(\u001b[0m\u001b[0mdict\u001b[0m\u001b[1;33m(\u001b[0m\u001b[0mmapped\u001b[0m\u001b[1;33m)\u001b[0m\u001b[1;33m.\u001b[0m\u001b[0msort\u001b[0m\u001b[1;33m(\u001b[0m\u001b[1;33m)\u001b[0m\u001b[1;33m)\u001b[0m\u001b[1;33m\u001b[0m\u001b[1;33m\u001b[0m\u001b[0m\n\u001b[0m",
      "\u001b[1;31mAttributeError\u001b[0m: 'dict' object has no attribute 'sort'"
     ]
    }
   ],
   "source": [
    "# The zip() function returns an iterator of tuples based on the iterable object.\n",
    "\n",
    "#     If no parameters are passed, zip() returns an empty iterator\n",
    "#     If a single iterable is passed, zip() returns an iterator of 1-tuples. Meaning, the number of elements in each tuple is 1.\n",
    "#     If multiple iterables are passed, ith tuple contains ith Suppose, two iterables are passed; one iterable containing 3 and other containing 5 elements. Then, the returned iterator has 3 tuples. It’s because iterator stops when shortest iterable is exhaused.\n",
    "\n",
    "# ASsignment: Create list of tuples with combined name,roll_no and marks\n",
    "\n",
    "name = [\"Manjeet\", \"Nikhil\", \"Shambhavi\"]\n",
    "roll_no = [4, 1, 3]\n",
    "marks = [40, 50, 60]\n",
    "\n",
    "mapped = zip(name, roll_no, marks)\n",
    "\n",
    "print(list(mapped))\n",
    "\n",
    "# Create dictionary from Two iterables:\n",
    "mapped = zip(roll_no, name)\n",
    "\n",
    "print(dict(mapped))\n",
    "\n"
   ]
  },
  {
   "cell_type": "code",
   "execution_count": null,
   "id": "6511a794",
   "metadata": {},
   "outputs": [],
   "source": []
  }
 ],
 "metadata": {
  "kernelspec": {
   "display_name": "Python 3",
   "language": "python",
   "name": "python3"
  },
  "language_info": {
   "codemirror_mode": {
    "name": "ipython",
    "version": 3
   },
   "file_extension": ".py",
   "mimetype": "text/x-python",
   "name": "python",
   "nbconvert_exporter": "python",
   "pygments_lexer": "ipython3",
   "version": "3.9.4"
  }
 },
 "nbformat": 4,
 "nbformat_minor": 5
}
