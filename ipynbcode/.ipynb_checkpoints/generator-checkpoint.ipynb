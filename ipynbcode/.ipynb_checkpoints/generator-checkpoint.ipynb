{
 "cells": [
  {
   "cell_type": "code",
   "execution_count": 12,
   "id": "06f32532",
   "metadata": {},
   "outputs": [
    {
     "name": "stdout",
     "output_type": "stream",
     "text": [
      "0\n",
      "2\n",
      "4\n",
      "6\n",
      "8\n",
      "10\n",
      "12\n",
      "14\n",
      "16\n",
      "18\n",
      "<generator object generatorf at 0x0000021B0589C7B0>\n",
      "2\n",
      "<generator object generatorf at 0x0000021B0589C7B0>\n",
      "<generator object generatorf at 0x0000021B0589C7B0>\n",
      "<generator object generatorf at 0x0000021B0589C7B0>\n"
     ]
    }
   ],
   "source": [
    "#generators are interables but interables not necessarily a generator. \n",
    "# getnerators use a a. for loop with range, b. a yield keyword instead of a return keyword c. at least one next.  \n",
    "#Generator objects are what Python uses to implement generator iterators. They are normally created by iterating over a function that yields values\n",
    "\n",
    "def generatorf(num):\n",
    "  for i in range(num):\n",
    "    yield i*2\n",
    "    \n",
    "\n",
    "for item in generatorf(10):\n",
    "    print(item)\n",
    "\n",
    "    \n",
    "g = generatorf(10)\n",
    "next(g)\n",
    "print(g)\n",
    "#2 \n",
    "print(next(g))\n",
    "print(g)\n",
    "#3 \n",
    "next(g)\n",
    "print(g)\n",
    "#4 \n",
    "next(g)\n",
    "print(g)\n",
    "\n",
    "#Please note that all the iterable objects are at same memory location. "
   ]
  },
  {
   "cell_type": "code",
   "execution_count": 1,
   "id": "ae72f511",
   "metadata": {},
   "outputs": [
    {
     "name": "stdout",
     "output_type": "stream",
     "text": [
      "1\n",
      "2\n",
      "3\n",
      "4\n",
      "5\n",
      "6\n",
      "7\n",
      "8\n",
      "9\n",
      "10\n",
      "11\n",
      "12\n",
      "13\n",
      "14\n",
      "15\n",
      "16\n",
      "17\n",
      "18\n",
      "19\n",
      "20\n"
     ]
    }
   ],
   "source": [
    "'''Create an Iterator\n",
    "\n",
    "To create an object/class as an iterator you have to implement the methods __iter__() and __next__() to your object.\n",
    "\n",
    "As you have learned in the Python Classes/Objects chapter, all classes have a function called __init__(), which allows you to do some initializing when the object is being created.\n",
    "\n",
    "The __iter__() method acts similar, you can do operations (initializing etc.), but must always return the iterator object itself.\n",
    "\n",
    "The __next__() method also allows you to do operations, and must return the next item in the sequence.\n",
    "To prevent the iteration to go on forever, we can use the StopIteration statement.\n",
    "\n",
    "In the __next__() method, we can add a terminating condition to raise an error if the iteration is done a specified number of times:\n",
    "'''\n",
    "class MyNumbers:\n",
    "  def __iter__(self):\n",
    "    self.a = 1\n",
    "    return self\n",
    "\n",
    "  def __next__(self):\n",
    "    if self.a <= 20:\n",
    "      x = self.a\n",
    "      self.a += 1\n",
    "      return x\n",
    "    else:\n",
    "      raise StopIteration\n",
    "\n",
    "myclass = MyNumbers()\n",
    "myiter = iter(myclass)\n",
    "\n",
    "for x in myiter:\n",
    "  print(x)"
   ]
  },
  {
   "cell_type": "code",
   "execution_count": 9,
   "id": "26318487",
   "metadata": {},
   "outputs": [
    {
     "name": "stdout",
     "output_type": "stream",
     "text": [
      "1\n",
      "took 0.0568082332611084s\n",
      "2\n",
      "took 0.08531522750854492s\n"
     ]
    }
   ],
   "source": [
    "# Decorator\n",
    "from time import time\n",
    "def performance(fn):\n",
    "    def wrapper(*args, **kwargs):\n",
    "        t1 = time()\n",
    "        result = fn(*args, **kwargs)\n",
    "        t2 = time()\n",
    "        print(f'took {t2-t1}s')\n",
    "        return result\n",
    "    return wrapper\n",
    "\n",
    "@performance\n",
    "def long_time():\n",
    "    print('1')\n",
    "    for i in range (1000000): # only generators are better for performance. \n",
    "        i*5\n",
    "\n",
    "@performance\n",
    "def long_time1():\n",
    "    print('2')\n",
    "    for i in list(range (1000000)): # it create a list first \n",
    "        i*5 \n",
    "\n",
    "long_time()\n",
    "long_time1() # you can see it take more time. "
   ]
  },
  {
   "cell_type": "code",
   "execution_count": 14,
   "id": "9ef9e444",
   "metadata": {},
   "outputs": [
    {
     "name": "stdout",
     "output_type": "stream",
     "text": [
      "<list_iterator object at 0x0000021B0589B100>\n",
      "2\n",
      "<list_iterator object at 0x0000021B0589B100>\n",
      "4\n",
      "<list_iterator object at 0x0000021B0589B100>\n",
      "6\n",
      "<list_iterator object at 0x0000021B0589B100>\n"
     ]
    }
   ],
   "source": [
    "def special_for(iterable):\n",
    "    iterable = iter(iterable)\n",
    "    while True:\n",
    "        try: \n",
    "            print(iterable)\n",
    "            print(next(iterable)*2)\n",
    "        except StopIteration: \n",
    "            break\n",
    "     \n",
    "special_for([1,2,3])\n",
    "\n",
    "#Please note that all the iterable objects are at same memory location. "
   ]
  },
  {
   "cell_type": "code",
   "execution_count": 17,
   "id": "db2a7e0f",
   "metadata": {},
   "outputs": [
    {
     "name": "stdout",
     "output_type": "stream",
     "text": [
      "0\n",
      "1\n",
      "2\n",
      "3\n",
      "4\n",
      "5\n",
      "6\n",
      "7\n",
      "8\n",
      "9\n",
      "10\n"
     ]
    }
   ],
   "source": [
    "#Under the hood of Generator. \n",
    "\n",
    "#Create our own Range \n",
    "# The __iter__() method acts similar, you can do operations (initializing etc.),\n",
    "# but must always return the iterator object itself.\n",
    "\n",
    "# The __next__() method also allows you to do operations, and must return the next item in the sequence.\n",
    "#To prevent the iteration to go on forever, we can use the StopIteration statement.\n",
    "\n",
    "class MyGen():\n",
    "    current = 0\n",
    "    def __init__(self, first, last):\n",
    "        self.first = first\n",
    "        self.last = last\n",
    "    def __iter__(self):\n",
    "        return self\n",
    "    def __next__(self):\n",
    "        if MyGen.current <= self.last:\n",
    "            num = MyGen.current\n",
    "            MyGen.current += 1\n",
    "            return num\n",
    "        raise StopIteration\n",
    "        \n",
    "\n",
    "#Normally how we use range() the same way we should be able to use our own range method. \n",
    "\n",
    "gen = MyGen(0,10)\n",
    "for i in gen:\n",
    "    print(i)"
   ]
  },
  {
   "cell_type": "code",
   "execution_count": null,
   "id": "12558f33",
   "metadata": {},
   "outputs": [],
   "source": [
    "#Create Fibonacci series using generator and list and compare the performance. \n",
    "fibindex = int(input(\"Enter index up to which you want to generate Fibonacci series\"))\n",
    "\n",
    "def fib(fibindex):\n",
    "    a = 0\n",
    "    b = 1\n",
    "    for i in range(fibindex):\n",
    "        yield(a)\n",
    "        temp = a\n",
    "        a = b\n",
    "        b = temp + b\n",
    "        #raise StopIteration\n",
    "     \n",
    "                 \n",
    "for i in fib(fibindex):\n",
    "    print(i)\n",
    "\n",
    "\n",
    "\n",
    "    "
   ]
  },
  {
   "cell_type": "code",
   "execution_count": null,
   "id": "29510806",
   "metadata": {},
   "outputs": [],
   "source": [
    "\n",
    "fibindex = int(input(\"Enter index up to which you want to generate Fibonacci series\"))\n",
    "\n",
    "class fibo():\n",
    "    a = 0\n",
    "    b = 1\n",
    "    \n",
    "    def __init__(self, index):\n",
    "        self.index = index\n",
    "        \n",
    "    def __iter__(self):\n",
    "        return self\n",
    "    \n",
    "    def __next__(self):\n",
    "        if fibo.a <= index:\n",
    "            num = fibo.a\n",
    "            fibo.a += fibo.b\n",
    "            return num\n",
    "        raise StopIteration\n",
    "        \n",
    "f = fibo(fibindex) \n",
    "for i in f:\n",
    "    print(i)"
   ]
  },
  {
   "cell_type": "code",
   "execution_count": null,
   "id": "c2a32aeb",
   "metadata": {},
   "outputs": [],
   "source": []
  }
 ],
 "metadata": {
  "kernelspec": {
   "display_name": "Python 3",
   "language": "python",
   "name": "python3"
  },
  "language_info": {
   "codemirror_mode": {
    "name": "ipython",
    "version": 3
   },
   "file_extension": ".py",
   "mimetype": "text/x-python",
   "name": "python",
   "nbconvert_exporter": "python",
   "pygments_lexer": "ipython3",
   "version": "3.9.4"
  }
 },
 "nbformat": 4,
 "nbformat_minor": 5
}
