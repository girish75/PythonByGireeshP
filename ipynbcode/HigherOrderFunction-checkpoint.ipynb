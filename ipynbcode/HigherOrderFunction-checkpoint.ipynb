{
 "cells": [
  {
   "cell_type": "code",
   "execution_count": 4,
   "id": "d3dc0ea6",
   "metadata": {},
   "outputs": [
    {
     "name": "stdout",
     "output_type": "stream",
     "text": [
      "HELLO\n",
      "HELLO\n",
      "HELLO\n"
     ]
    }
   ],
   "source": [
    "# Higher Order functions\n",
    "#A function is called Higher Order Function if it contains other functions as a parameter or returns a function\n",
    "# as an output i.e, the functions that operate with another function are known as Higher order Functions.\n",
    "#It is worth knowing that this higher order function is applicable for functions and methods as well that \n",
    "#takes functions as a parameter or returns a function as a result.\n",
    "# Properties of higher-order functions:\n",
    "\n",
    "# A function is an instance of the Object type.\n",
    "# You can store the function in a variable.\n",
    "# You can pass the function as a parameter to another function.\n",
    "# You can return the function from a function.\n",
    "# You can store them in data structures such as hash tables, lists, …\n",
    "\n",
    "# Python program to illustrate functions \n",
    "# can be treated as objects \n",
    "def shout(text): \n",
    "    return text.upper() \n",
    "    \n",
    "print(shout('Hello')) \n",
    "    \n",
    "# Assigning function to a variable\n",
    "yell = shout \n",
    "    \n",
    "print(yell('Hello'))\n",
    "\n",
    "del shout\n",
    "\n",
    "#print(shout('Hello'))  # name 'shout' is not defined\n",
    "print(yell('Hello')) # but still it will work well. The variable where this function is assigned to. Interesting. \n",
    "\n",
    "\n"
   ]
  },
  {
   "cell_type": "code",
   "execution_count": 9,
   "id": "497bef78",
   "metadata": {},
   "outputs": [
    {
     "name": "stdout",
     "output_type": "stream",
     "text": [
      "<function shout at 0x00000128CF30FCA0>\n",
      "hi, i am created by a function     passed as an argument.\n",
      "<function shout at 0x00000128CF30FCA0>\n"
     ]
    }
   ],
   "source": [
    "# Passing Function as an argument to other function\n",
    "# Functions are like objects in Python, therefore, they can be passed as argument to other functions.\n",
    "# Python program to illustrate functions \n",
    "# can be passed as arguments to other functions \n",
    "def shout(text):\n",
    "    return text.upper()\n",
    "    \n",
    "def whisper(text): \n",
    "    return text.lower() \n",
    "    \n",
    "def greet(func): \n",
    "    # storing the function in a variable \n",
    "    greeting = func(\"Hi, I am created by a function \\\n",
    "    passed as an argument.\") \n",
    "    print(greeting)  \n",
    "    \n",
    "greet(shout) # Now shout function will get executed in the name of func function inside greet function. \n",
    "greet(whisper) # Now whisper function will get executed in the name of func function inside greet function. \n",
    "\n",
    "def greeting(text, name):\n",
    "    return f'{text} Sent from {name}'\n",
    "print(shout(greeting(\"Welcome you \", \"Girish\")))"
   ]
  },
  {
   "cell_type": "code",
   "execution_count": 18,
   "id": "129f7e63",
   "metadata": {},
   "outputs": [
    {
     "name": "stdout",
     "output_type": "stream",
     "text": [
      "This is inside the function !!\n"
     ]
    }
   ],
   "source": [
    "# Decorators\n",
    "# Decorators are the most common use of higher-order functions in Python. It allows programmers to modify\n",
    "# the behavior of function or class. Decorators allow us to wrap another function in order to extend the\n",
    "# behavior of wrapped function, without permanently modifying it. \n",
    "# In Decorators, functions are taken as the argument into another function and then called inside the\n",
    "# wrapper function.\n",
    "\n",
    "# defining a decorator \n",
    "def hello_decorator(func): \n",
    "    \n",
    "    # inner1 is a Wrapper function in  \n",
    "    # which the argument is called \n",
    "        \n",
    "    # inner function can access the outer local \n",
    "    # functions like in this case \"func\" \n",
    "    def inner1(): \n",
    "        print(\"Hello, this is before function execution\\n\") \n",
    "    \n",
    "        # calling the actual function now \n",
    "        # inside the wrapper function. \n",
    "        func() \n",
    "    \n",
    "        print(\"This is after function execution\") \n",
    "            \n",
    "    return inner1 \n",
    "    \n",
    "    \n",
    "# defining a function, to be called inside wrapper \n",
    "def function_to_be_used(): \n",
    "    print(\"This is inside the function !!\") \n",
    "    \n",
    "    \n",
    "# passing 'function_to_be_used' inside the \n",
    "# decorator to control its behavior \n",
    "#function_to_be_used = hello_decorator(function_to_be_used) \n",
    "hello_decorator(function_to_be_used) \n",
    "    \n",
    "# # calling the function \n",
    "function_to_be_used() "
   ]
  },
  {
   "cell_type": "code",
   "execution_count": 34,
   "id": "a16abee4",
   "metadata": {},
   "outputs": [
    {
     "name": "stdout",
     "output_type": "stream",
     "text": [
      "********\n",
      "Helloooo\n",
      "********\n",
      "took 0.0 ms\n",
      "********\n",
      "See ya later\n",
      "********\n",
      "took 0.0 ms\n",
      "********\n",
      "Hiiii :)\n",
      "********\n",
      "took 0.0 ms\n",
      "********\n",
      "********\n",
      "took 4.917147159576416 ms\n"
     ]
    },
    {
     "data": {
      "text/plain": [
       "499999995"
      ]
     },
     "execution_count": 34,
     "metadata": {},
     "output_type": "execute_result"
    }
   ],
   "source": [
    "# Decorator\n",
    "from time import time \n",
    "\n",
    "def a_decorator(func): #passing argument of a function. \n",
    "\n",
    "    def wrap_func(*args, **kwargs): #having a wraper function *args, **kwargs for wrapper function. \n",
    "        print(\"********\")\n",
    "        t1 = time()\n",
    "        result = func(*args, **kwargs) # calling the passed function \n",
    "        t2 = time()\n",
    "        print(\"********\")\n",
    "        print(f'took {t2-t1} ms') #This will check performance in terms of time difference. \n",
    "        return result  \n",
    "    return wrap_func # returning the wraper function. \n",
    "\n",
    "@a_decorator\n",
    "def hello():\n",
    "    print(\"Helloooo\")\n",
    "    \n",
    "@a_decorator\n",
    "def bye():\n",
    "    print(\"See ya later\")\n",
    "\n",
    "@a_decorator\n",
    "def greeting(greet,emoji):\n",
    "    print(greet, emoji)\n",
    "    \n",
    "@a_decorator\n",
    "def long_time():\n",
    "    for i in range(100000000):\n",
    "        a= i*5\n",
    "    return a\n",
    "    \n",
    "hello()\n",
    "bye()\n",
    "greeting(\"Hiiii\", ':)')\n",
    "long_time()"
   ]
  },
  {
   "cell_type": "code",
   "execution_count": 68,
   "id": "87fed45c",
   "metadata": {},
   "outputs": [
    {
     "name": "stdout",
     "output_type": "stream",
     "text": [
      "dict_items([('name', 'Sorna'), ('valid', False)])\n",
      "********\n",
      "args =  ({'name': 'Sorna', 'valid': False},)\n",
      "dict_items([('name', 'valid')])\n",
      "********\n"
     ]
    }
   ],
   "source": [
    "# Create an @authenticated decorator that only allows the function to run if user1 has 'valid' set to True:\n",
    "user1 = {\n",
    "    'name': 'Sorna',\n",
    "    'valid': False #changing this will either run or not run the message_friends function.\n",
    "}\n",
    "\n",
    "#print(user1.items())\n",
    "\n",
    "def authenticated(func): #passing argument of a function. \n",
    "  # code here\n",
    "    def wrap_func(*args, **kwargs): #having a wraper function *args, **kwargs for wrapper function. \n",
    "        print(\"********\")\n",
    "        print(\"args = \", args)\n",
    "         # print(\"kwargs = \", *kwargs)\n",
    "        dict1 = dict(args)\n",
    "        print(dict1.items())\n",
    "        if args[0]['valid']:\n",
    "            func(*args, **kwargs) # calling the passed function \n",
    "        \n",
    "        print(\"********\")\n",
    "        \n",
    "    return wrap_func # returning the wraper function. \n",
    "\n",
    "@authenticated\n",
    "def message_friends(user):\n",
    "    print('message has been sent')\n",
    "\n",
    "message_friends(user1)"
   ]
  },
  {
   "cell_type": "code",
   "execution_count": null,
   "id": "45ec546a",
   "metadata": {},
   "outputs": [],
   "source": []
  }
 ],
 "metadata": {
  "kernelspec": {
   "display_name": "Python 3",
   "language": "python",
   "name": "python3"
  },
  "language_info": {
   "codemirror_mode": {
    "name": "ipython",
    "version": 3
   },
   "file_extension": ".py",
   "mimetype": "text/x-python",
   "name": "python",
   "nbconvert_exporter": "python",
   "pygments_lexer": "ipython3",
   "version": "3.9.4"
  }
 },
 "nbformat": 4,
 "nbformat_minor": 5
}
