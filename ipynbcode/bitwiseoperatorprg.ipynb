{
 "cells": [
  {
   "cell_type": "code",
   "execution_count": 4,
   "metadata": {},
   "outputs": [
    {
     "name": "stdout",
     "output_type": "stream",
     "text": [
      "0b101101\n",
      "0b111000\n",
      "40\n",
      "61\n",
      "21\n",
      "-46\n",
      "-57\n",
      "90\n",
      "11\n"
     ]
    }
   ],
   "source": [
    "v1 = 45\n",
    "v2 = 56\n",
    "print(bin(v1))\n",
    "print(bin(v2))\n",
    "\n",
    "print(v1 & v2) \n",
    "print(v1 | v2)\n",
    "print(v1 ^ v2) #Bitwise XOR \n",
    "print(~v1)\n",
    "print(~v2)\n",
    "print(v1 << 1)\n",
    "print(v1 >> 2)\n"
   ]
  },
  {
   "cell_type": "code",
   "execution_count": 6,
   "metadata": {},
   "outputs": [
    {
     "name": "stdout",
     "output_type": "stream",
     "text": [
      "28\n",
      "37\n",
      "4 61 57 -29 -38 112 3\n"
     ]
    }
   ],
   "source": [
    "v1 = 0o34\n",
    "v2 = 0o45\n",
    "print(v1)\n",
    "print(v2)\n",
    "print(v1 & v2, v1 | v2, v1 ^ v2, ~v1, ~v2, v1 << 2, v1 >> 3)\n"
   ]
  },
  {
   "cell_type": "code",
   "execution_count": 8,
   "metadata": {},
   "outputs": [
    {
     "name": "stdout",
     "output_type": "stream",
     "text": [
      "171 137\n",
      "137 171 34 -172 -138 684 21\n"
     ]
    }
   ],
   "source": [
    "v1 = 0xAB\n",
    "v2 = 0x89\n",
    "print(v1, v2)\n",
    "print( v1 & v2, v1 | v2, v1 ^ v2, ~v1, ~v2, v1 << 2, v1 >> 3)"
   ]
  },
  {
   "cell_type": "code",
   "execution_count": 10,
   "metadata": {},
   "outputs": [
    {
     "name": "stdout",
     "output_type": "stream",
     "text": [
      "220 106\n",
      "72 254 182 -221 -107 880 27\n"
     ]
    }
   ],
   "source": [
    "v1 = 0b11011100\n",
    "v2 = 0b01101010\n",
    "print(v1, v2)\n",
    "print (v1 & v2, v1 | v2, v1 ^ v2, ~v1, ~v2, v1 << 2, v1 >> 3)\n"
   ]
  },
  {
   "cell_type": "code",
   "execution_count": null,
   "metadata": {},
   "outputs": [],
   "source": []
  }
 ],
 "metadata": {
  "kernelspec": {
   "display_name": "Python 3",
   "language": "python",
   "name": "python3"
  },
  "language_info": {
   "codemirror_mode": {
    "name": "ipython",
    "version": 3
   },
   "file_extension": ".py",
   "mimetype": "text/x-python",
   "name": "python",
   "nbconvert_exporter": "python",
   "pygments_lexer": "ipython3",
   "version": "3.9.4"
  }
 },
 "nbformat": 4,
 "nbformat_minor": 4
}
