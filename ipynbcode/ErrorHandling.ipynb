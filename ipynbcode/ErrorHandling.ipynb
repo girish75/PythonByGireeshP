{
 "cells": [
  {
   "cell_type": "markdown",
   "metadata": {
    "colab_type": "text",
    "id": "view-in-github"
   },
   "source": [
    "<a href=\"https://colab.research.google.com/github/girish75/PythonByGirishPareek/blob/PythonCode/ErrorHandling.ipynb\" target=\"_parent\"><img src=\"https://colab.research.google.com/assets/colab-badge.svg\" alt=\"Open In Colab\"/></a>"
   ]
  },
  {
   "cell_type": "code",
   "execution_count": null,
   "metadata": {
    "colab": {
     "base_uri": "https://localhost:8080/"
    },
    "id": "aVxhVECKp-y1",
    "outputId": "08779599-9955-4041-fc99-315d51a0dc4e"
   },
   "outputs": [
    {
     "name": "stdout",
     "output_type": "stream",
     "text": [
      "Enter your age0\n",
      "please enter age higher than 0\n",
      "Enter your ageasdfkajsd\n",
      "please enter a number\n",
      "Enter your age-10\n",
      "Thank you!!!\n"
     ]
    }
   ],
   "source": [
    "# Error Handling\n",
    "while True: \n",
    "  try:\n",
    "    age = int(input(\"Enter your age\"))\n",
    "    100/age\n",
    "  except ValueError:\n",
    "    print(\"please enter a number)\n",
    "  except ZeroDivisionError:\n",
    "    print(\"please enter age higher than 0\")\n",
    "  else:\n",
    "    print(\"Thank you!!!\")\n",
    "    break\n",
    "  "
   ]
  },
  {
   "cell_type": "code",
   "execution_count": null,
   "metadata": {
    "colab": {
     "base_uri": "https://localhost:8080/"
    },
    "id": "88rRx5kwuhSf",
    "outputId": "f13f0d46-e6f4-4429-b9fa-f7f384298f2b"
   },
   "outputs": [
    {
     "name": "stdout",
     "output_type": "stream",
     "text": [
      "Enter your ageasdfa\n",
      "please enter a number\n",
      " invalid literal for int() with base 10: 'asdfa'\n",
      "please enter a number\n",
      "invalid literal for int() with base 10: 'asdfa'\n",
      "Enter your age10\n",
      "Thank you!!!\n"
     ]
    }
   ],
   "source": [
    "# Error Handling and through err object for more descritive error message. \n",
    "while True: \n",
    "  try:\n",
    "    age = int(input(\"Enter your age\"))\n",
    "    100/age\n",
    "  except ValueError as err:\n",
    "    print(\"please enter a number\\n\", err)\n",
    "    print(f\"please enter a number\\n{err}\")\n",
    "  except ZeroDivisionError as err:\n",
    "    print(\"please enter age higher than 0\\n \", err)\n",
    "  else:\n",
    "    print(\"Thank you!!!\")\n",
    "    break"
   ]
  },
  {
   "cell_type": "code",
   "execution_count": null,
   "metadata": {
    "colab": {
     "base_uri": "https://localhost:8080/"
    },
    "id": "RRCJ_8Rbvh3q",
    "outputId": "4731f7b4-38eb-4bb0-d3e0-3ee740871f9e"
   },
   "outputs": [
    {
     "name": "stdout",
     "output_type": "stream",
     "text": [
      "Enter your age0\n",
      "division by zero\n",
      "Enter your ageasdfa\n",
      "invalid literal for int() with base 10: 'asdfa'\n",
      "Enter your age10\n",
      "Thank you!!!\n"
     ]
    }
   ],
   "source": [
    "# Error Handling and through err object for more descritive error message. \n",
    "while True: \n",
    "  try:\n",
    "    age = int(input(\"Enter your age\"))\n",
    "    100/age\n",
    "  except (ValueError, ZeroDivisionError) as err: # combining exception if make sense. \n",
    "    print(\"oops...\")\n",
    "    print(err)\n",
    "  else:\n",
    "    print(\"Thank you!!!\")\n",
    "    break\n"
   ]
  },
  {
   "cell_type": "code",
   "execution_count": null,
   "metadata": {
    "colab": {
     "base_uri": "https://localhost:8080/"
    },
    "id": "PjDkfUncwNmh",
    "outputId": "7d0661b6-f91e-418b-971a-49f649569513"
   },
   "outputs": [
    {
     "name": "stdout",
     "output_type": "stream",
     "text": [
      "Enter your age0\n",
      "please enter age higher than 0\n",
      "  division by zero\n",
      "This is used to log errors, because this block always get executed irrespective of anything\n",
      "Enter your ageasfads\n",
      "please enter a number\n",
      " invalid literal for int() with base 10: 'asfads'\n",
      "please enter a number\n",
      "invalid literal for int() with base 10: 'asfads'\n",
      "This is used to log errors, because this block always get executed irrespective of anything\n",
      "Enter your age10\n",
      "Thank you!!!\n",
      "This is used to log errors, because this block always get executed irrespective of anything\n"
     ]
    }
   ],
   "source": [
    "# Error Handling and and understanding finally. \n",
    "while True: \n",
    "  try:\n",
    "    age = int(input(\"Enter your age\"))\n",
    "    100/age\n",
    "  except ValueError as err:\n",
    "    print(\"please enter a number\\n\", err)\n",
    "    print(f\"please enter a number\\n{err}\")\n",
    "  except ZeroDivisionError as err:\n",
    "    print(\"please enter age higher than 0\\n \", err)\n",
    "  else:\n",
    "    print(\"Thank you!!!\")\n",
    "    break\n",
    "  finally: \n",
    "    print(\"This is used to log errors, because this block always get executed irrespective of anything\")\n"
   ]
  },
  {
   "cell_type": "code",
   "execution_count": null,
   "metadata": {
    "colab": {
     "base_uri": "https://localhost:8080/"
    },
    "id": "ywgr8EatxI-7",
    "outputId": "9d6787b7-86c8-4731-9bcb-cd8fe7e31b05"
   },
   "outputs": [
    {
     "name": "stdout",
     "output_type": "stream",
     "text": [
      "Enter your ageasdfa\n",
      "please enter a number\n",
      " invalid literal for int() with base 10: 'asdfa'\n",
      "please enter a number\n",
      "invalid literal for int() with base 10: 'asdfa'\n",
      "This is used to log errors, because this block always get executed irrespective of anything\n",
      "Enter your age0\n",
      "please enter age higher than 0\n",
      "  division by zero\n",
      "This is used to log errors, because this block always get executed irrespective of anything\n",
      "Enter your age10\n",
      "Thank you!!!\n",
      "This is used to log errors, because this block always get executed irrespective of anything\n"
     ]
    }
   ],
   "source": [
    "# Error Handling and and understanding continue keyword. In this case finally does not executed. \n",
    "while True: \n",
    "  try:\n",
    "    age = int(input(\"Enter your age\"))\n",
    "    100/age\n",
    "  except ValueError as err:\n",
    "    print(\"please enter a number\\n\", err)\n",
    "    print(f\"please enter a number\\n{err}\")\n",
    "    continue\n",
    "  except ZeroDivisionError as err:\n",
    "    print(\"please enter age higher than 0\\n \", err)\n",
    "  else:\n",
    "    print(\"Thank you!!!\")\n",
    "    break\n",
    "  finally: \n",
    "    print(\"This is used to log errors, because this block always get executed irrespective of anything\")\n"
   ]
  },
  {
   "cell_type": "code",
   "execution_count": null,
   "metadata": {
    "id": "5nBpcpou0QOp"
   },
   "outputs": [],
   "source": []
  },
  {
   "cell_type": "code",
   "execution_count": 8,
   "metadata": {
    "colab": {
     "base_uri": "https://localhost:8080/",
     "height": 243
    },
    "id": "DM_K9KId465M",
    "outputId": "307573a6-aa41-47dd-b15a-15ad8c1da90d"
   },
   "outputs": [
    {
     "ename": "Exception",
     "evalue": "ignored",
     "output_type": "error",
     "traceback": [
      "\u001b[0;31m---------------------------------------------------------------------------\u001b[0m",
      "\u001b[0;31mException\u001b[0m                                 Traceback (most recent call last)",
      "\u001b[0;32m<ipython-input-8-5b87ca1cebd4>\u001b[0m in \u001b[0;36m<module>\u001b[0;34m()\u001b[0m\n\u001b[1;32m      5\u001b[0m \u001b[0;34m\u001b[0m\u001b[0m\n\u001b[1;32m      6\u001b[0m \u001b[0;32mif\u001b[0m \u001b[0mx\u001b[0m \u001b[0;34m<\u001b[0m \u001b[0;36m0\u001b[0m\u001b[0;34m:\u001b[0m\u001b[0;34m\u001b[0m\u001b[0;34m\u001b[0m\u001b[0m\n\u001b[0;32m----> 7\u001b[0;31m   \u001b[0;32mraise\u001b[0m \u001b[0mException\u001b[0m\u001b[0;34m(\u001b[0m\u001b[0;34m\"Sorry, no numbers below zero\"\u001b[0m\u001b[0;34m)\u001b[0m\u001b[0;34m\u001b[0m\u001b[0;34m\u001b[0m\u001b[0m\n\u001b[0m\u001b[1;32m      8\u001b[0m \u001b[0;32melif\u001b[0m \u001b[0mx\u001b[0m \u001b[0;34m==\u001b[0m \u001b[0;36m0\u001b[0m\u001b[0;34m:\u001b[0m\u001b[0;34m\u001b[0m\u001b[0;34m\u001b[0m\u001b[0m\n\u001b[1;32m      9\u001b[0m     \u001b[0;32mraise\u001b[0m \u001b[0mValueError\u001b[0m\u001b[0;34m(\u001b[0m\u001b[0;34m\"this is a value error\"\u001b[0m\u001b[0;34m)\u001b[0m\u001b[0;34m\u001b[0m\u001b[0;34m\u001b[0m\u001b[0m\n",
      "\u001b[0;31mException\u001b[0m: Sorry, no numbers below zero"
     ]
    }
   ],
   "source": [
    "# Error Handling and and understanding continue keyword. In this case finally does not executed. \n",
    "# The raise keyword is used to raise an exception.\n",
    "# You can define what kind of error to raise, and the text to print to the user.\n",
    "x = -1\n",
    "\n",
    "if x < 0:\n",
    "  raise Exception(\"Sorry, no numbers below zero\") \n",
    "elif x == 0:\n",
    "    raise ValueError(\"this is a value error\")\n",
    "else:\n",
    "  print(\"nothing\")\n"
   ]
  },
  {
   "cell_type": "code",
   "execution_count": 5,
   "metadata": {
    "colab": {
     "base_uri": "https://localhost:8080/",
     "height": 207
    },
    "id": "SgMqqJ6fFbqK",
    "outputId": "a2e31864-dad3-492c-a23b-3eaef89f272f"
   },
   "outputs": [
    {
     "ename": "TypeError",
     "evalue": "ignored",
     "output_type": "error",
     "traceback": [
      "\u001b[0;31m---------------------------------------------------------------------------\u001b[0m",
      "\u001b[0;31mTypeError\u001b[0m                                 Traceback (most recent call last)",
      "\u001b[0;32m<ipython-input-5-ac71689f5629>\u001b[0m in \u001b[0;36m<module>\u001b[0;34m()\u001b[0m\n\u001b[1;32m      2\u001b[0m \u001b[0;34m\u001b[0m\u001b[0m\n\u001b[1;32m      3\u001b[0m \u001b[0;32mif\u001b[0m \u001b[0;32mnot\u001b[0m \u001b[0mtype\u001b[0m\u001b[0;34m(\u001b[0m\u001b[0mx\u001b[0m\u001b[0;34m)\u001b[0m \u001b[0;32mis\u001b[0m \u001b[0mint\u001b[0m\u001b[0;34m:\u001b[0m\u001b[0;34m\u001b[0m\u001b[0;34m\u001b[0m\u001b[0m\n\u001b[0;32m----> 4\u001b[0;31m   \u001b[0;32mraise\u001b[0m \u001b[0mTypeError\u001b[0m\u001b[0;34m(\u001b[0m\u001b[0;34m\"Only integers are allowed\"\u001b[0m\u001b[0;34m)\u001b[0m\u001b[0;34m\u001b[0m\u001b[0;34m\u001b[0m\u001b[0m\n\u001b[0m",
      "\u001b[0;31mTypeError\u001b[0m: Only integers are allowed"
     ]
    }
   ],
   "source": [
    "x = \"hello\"\n",
    "\n",
    "if not type(x) is int:\n",
    "  raise TypeError(\"Only integers are allowed\") "
   ]
  }
 ],
 "metadata": {
  "colab": {
   "authorship_tag": "ABX9TyPDSkMvOxpGmJwEMSNLtjVH",
   "include_colab_link": true,
   "name": "ErrorHandling.ipynb",
   "provenance": []
  },
  "kernelspec": {
   "display_name": "Python 3",
   "language": "python",
   "name": "python3"
  },
  "language_info": {
   "codemirror_mode": {
    "name": "ipython",
    "version": 3
   },
   "file_extension": ".py",
   "mimetype": "text/x-python",
   "name": "python",
   "nbconvert_exporter": "python",
   "pygments_lexer": "ipython3",
   "version": "3.9.4"
  }
 },
 "nbformat": 4,
 "nbformat_minor": 1
}
