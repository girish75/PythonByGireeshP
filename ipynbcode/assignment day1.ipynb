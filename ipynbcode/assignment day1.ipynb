{
 "cells": [
  {
   "cell_type": "code",
   "execution_count": null,
   "id": "357b5c17",
   "metadata": {},
   "outputs": [],
   "source": [
    "#Create Fibonacci series using generator and list and compare the performance. \n",
    "fibindex = int(input(\"Enter index up to which you want to generate Fibonacci series\"))\n",
    "\n",
    "from time import time\n",
    "def performance(fn):\n",
    "    def wrapper(*args, **kwargs):\n",
    "        t1 = time()\n",
    "        result = fn(*args, **kwargs)\n",
    "        t2 = time()\n",
    "        print(f'took {t2-t1}s')\n",
    "        return result\n",
    "    return wrapper\n",
    "\n",
    "@performance                \n",
    "def fib(fibindex):\n",
    "    a = 0\n",
    "    b = 1\n",
    "    for i in range(fibindex):\n",
    "        yield(a)\n",
    "        temp = a\n",
    "        a = b\n",
    "        b = temp + b\n",
    "        #raise StopIteration    \n",
    "\n",
    "  \n",
    "\n",
    "@performance  \n",
    "def fibo(fibindex):\n",
    "    a = 0\n",
    "    b = 1\n",
    "    lst = list()\n",
    "    for i in range(fibindex):\n",
    "        lst.append(a)\n",
    "        temp = a\n",
    "        a = b\n",
    "        b = temp + b\n",
    "        #raise StopIteration\n",
    "    return lst\n",
    "\n",
    "\n",
    "for i in fib(fibindex):\n",
    "    print(i)\n",
    "\n",
    "\n",
    "print(fibo(fibindex))\n"
   ]
  },
  {
   "cell_type": "code",
   "execution_count": 20,
   "id": "6154cf46",
   "metadata": {},
   "outputs": [
    {
     "name": "stdout",
     "output_type": "stream",
     "text": [
      "Enter index up to which you want to generate Fibonacci series20\n",
      "0\n",
      "1\n",
      "2\n",
      "3\n",
      "4\n",
      "5\n",
      "6\n",
      "7\n",
      "8\n",
      "9\n",
      "10\n",
      "11\n",
      "12\n",
      "13\n",
      "14\n",
      "15\n",
      "16\n",
      "17\n",
      "18\n",
      "19\n",
      "20\n"
     ]
    }
   ],
   "source": [
    "\n",
    "fibindex = int(input(\"Enter index up to which you want to generate Fibonacci series\"))\n",
    "\n",
    "class fibo():\n",
    "    a = 0\n",
    "    b = 1\n",
    "    \n",
    "    def __init__(self, index):\n",
    "        self.index = index\n",
    "        \n",
    "    def __iter__(self):\n",
    "        return self\n",
    "    \n",
    "    def __next__(self):\n",
    "        if fibo.a <= self.index:\n",
    "            num = fibo.a\n",
    "            fibo.a += fibo.b\n",
    "            return num\n",
    "        raise StopIteration\n",
    "        \n",
    "f = fibo(fibindex) \n",
    "for i in f:\n",
    "    print(i)"
   ]
  },
  {
   "cell_type": "code",
   "execution_count": 9,
   "id": "807fb972",
   "metadata": {},
   "outputs": [
    {
     "name": "stdout",
     "output_type": "stream",
     "text": [
      "[2002, 2009, 2016, 2023, 2037, 2044, 2051, 2058, 2072, 2079, 2086, 2093, 2107, 2114, 2121, 2128, 2142, 2149, 2156, 2163, 2177, 2184, 2191, 2198, 2212, 2219, 2226, 2233, 2247, 2254, 2261, 2268, 2282, 2289, 2296, 2303, 2317, 2324, 2331, 2338, 2352, 2359, 2366, 2373, 2387, 2394, 2401, 2408, 2422, 2429, 2436, 2443, 2457, 2464, 2471, 2478, 2492, 2499, 2506, 2513, 2527, 2534, 2541, 2548, 2562, 2569, 2576, 2583, 2597, 2604, 2611, 2618, 2632, 2639, 2646, 2653, 2667, 2674, 2681, 2688, 2702, 2709, 2716, 2723, 2737, 2744, 2751, 2758, 2772, 2779, 2786, 2793, 2807, 2814, 2821, 2828, 2842, 2849, 2856, 2863, 2877, 2884, 2891, 2898, 2912, 2919, 2926, 2933, 2947, 2954, 2961, 2968, 2982, 2989, 2996, 3003, 3017, 3024, 3031, 3038, 3052, 3059, 3066, 3073, 3087, 3094, 3101, 3108, 3122, 3129, 3136, 3143, 3157, 3164, 3171, 3178, 3192, 3199],\n",
      "\n",
      "\n",
      "['2002', '2009', '2016', '2023', '2037', '2044', '2051', '2058', '2072', '2079', '2086', '2093', '2107', '2114', '2121', '2128', '2142', '2149', '2156', '2163', '2177', '2184', '2191', '2198', '2212', '2219', '2226', '2233', '2247', '2254', '2261', '2268', '2282', '2289', '2296', '2303', '2317', '2324', '2331', '2338', '2352', '2359', '2366', '2373', '2387', '2394', '2401', '2408', '2422', '2429', '2436', '2443', '2457', '2464', '2471', '2478', '2492', '2499', '2506', '2513', '2527', '2534', '2541', '2548', '2562', '2569', '2576', '2583', '2597', '2604', '2611', '2618', '2632', '2639', '2646', '2653', '2667', '2674', '2681', '2688', '2702', '2709', '2716', '2723', '2737', '2744', '2751', '2758', '2772', '2779', '2786', '2793', '2807', '2814', '2821', '2828', '2842', '2849', '2856', '2863', '2877', '2884', '2891', '2898', '2912', '2919', '2926', '2933', '2947', '2954', '2961', '2968', '2982', '2989', '2996', '3003', '3017', '3024', '3031', '3038', '3052', '3059', '3066', '3073', '3087', '3094', '3101', '3108', '3122', '3129', '3136', '3143', '3157', '3164', '3171', '3178', '3192', '3199'],\n",
      "\n",
      "\n",
      "2002,2009,2016,2023,2037,2044,2051,2058,2072,2079,2086,2093,2107,2114,2121,2128,2142,2149,2156,2163,2177,2184,2191,2198,2212,2219,2226,2233,2247,2254,2261,2268,2282,2289,2296,2303,2317,2324,2331,2338,2352,2359,2366,2373,2387,2394,2401,2408,2422,2429,2436,2443,2457,2464,2471,2478,2492,2499,2506,2513,2527,2534,2541,2548,2562,2569,2576,2583,2597,2604,2611,2618,2632,2639,2646,2653,2667,2674,2681,2688,2702,2709,2716,2723,2737,2744,2751,2758,2772,2779,2786,2793,2807,2814,2821,2828,2842,2849,2856,2863,2877,2884,2891,2898,2912,2919,2926,2933,2947,2954,2961,2968,2982,2989,2996,3003,3017,3024,3031,3038,3052,3059,3066,3073,3087,3094,3101,3108,3122,3129,3136,3143,3157,3164,3171,3178,3192,3199\n"
     ]
    }
   ],
   "source": [
    "# Question 1\n",
    "# Question:\n",
    "# Write a program which will find all such numbers which are divisible by 7 but are not a multiple of 5,\n",
    "# between 2000 and 3200 (both included).The numbers obtained should be printed in a comma-separated sequence \n",
    "# on a single line.\n",
    "\n",
    "# Hints:\n",
    "# Consider use range(#begin, #end) method.\n",
    "#Mysolution\n",
    "print([i for i in range(1999,3201) if i%7 ==0 and i %5 != 0], end = \",\")\n",
    "\n",
    "#SolutionGiven\n",
    "print(\"\\n\\n\")\n",
    "l=[]\n",
    "for i in range(2000, 3201):\n",
    "    if (i%7==0) and (i%5!=0):\n",
    "        l.append(str(i))\n",
    "\n",
    "print (l, end = \",\")\n",
    "\n",
    "print(\"\\n\\n\")\n",
    "print(\",\".join(l))\n"
   ]
  },
  {
   "cell_type": "code",
   "execution_count": 15,
   "id": "7efa6a36",
   "metadata": {},
   "outputs": [
    {
     "name": "stdout",
     "output_type": "stream",
     "text": [
      "Enter a number to compute factorial8\n",
      "40320\n"
     ]
    }
   ],
   "source": [
    "# Question 2\n",
    "# Question:\n",
    "# Write a program which can compute the factorial of a given numbers.The results should be printed in\n",
    "# a comma-separated sequence on a single line.Suppose the following input is supplied to the program:\n",
    "# 8 Then, the output should be:40320\n",
    "\n",
    "# Hints:\n",
    "# In case of input data being supplied to the question, it should be assumed to be a console input.\n",
    "\n",
    "num = int(input(\"Enter a number to compute factorial\"))\n",
    "\n",
    "def fact(num):\n",
    "    if num == 1: \n",
    "        return 1\n",
    "    else:\n",
    "        return num*fact(num-1)\n",
    "\n",
    "print(fact(num))\n"
   ]
  },
  {
   "cell_type": "code",
   "execution_count": null,
   "id": "db470b0c",
   "metadata": {},
   "outputs": [],
   "source": []
  },
  {
   "cell_type": "code",
   "execution_count": null,
   "id": "44c76fb9",
   "metadata": {},
   "outputs": [],
   "source": []
  }
 ],
 "metadata": {
  "kernelspec": {
   "display_name": "Python 3",
   "language": "python",
   "name": "python3"
  },
  "language_info": {
   "codemirror_mode": {
    "name": "ipython",
    "version": 3
   },
   "file_extension": ".py",
   "mimetype": "text/x-python",
   "name": "python",
   "nbconvert_exporter": "python",
   "pygments_lexer": "ipython3",
   "version": "3.9.4"
  }
 },
 "nbformat": 4,
 "nbformat_minor": 5
}
