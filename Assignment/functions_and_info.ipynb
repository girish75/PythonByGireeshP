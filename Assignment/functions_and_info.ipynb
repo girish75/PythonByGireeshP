{
 "cells": [
  {
   "cell_type": "code",
   "execution_count": 11,
   "id": "eea90911",
   "metadata": {},
   "outputs": [
    {
     "name": "stdout",
     "output_type": "stream",
     "text": [
      "   *    \n",
      "  ***   \n",
      " *****  \n",
      "******* \n",
      " *****  \n",
      "  ***   \n",
      "   *    \n",
      "   *    \n",
      "  ***   \n",
      " *****  \n",
      "******* \n",
      " *****  \n",
      "  ***   \n",
      "   *    \n",
      "   *    \n",
      "  ***   \n",
      " *****  \n",
      "******* \n",
      " *****  \n",
      "  ***   \n",
      "   *    \n",
      "None\n"
     ]
    }
   ],
   "source": [
    "# Defining Functions - How to ?\n",
    "picture = [ \n",
    "[0,0,0,1,0,0,0],\n",
    "[0,0,1,1,1,0,0],\n",
    "[0,1,1,1,1,1,0],\n",
    "[1,1,1,1,1,1,1],\n",
    "[0,1,1,1,1,1,0],\n",
    "[0,0,1,1,1,0,0],\n",
    "[0,0,0,1,0,0,0]\n",
    "]\n",
    "\n",
    "def show_image():\n",
    "    for image in picture:\n",
    "        #print(type(image))\n",
    "        for pixcel in image:\n",
    "            if(pixcel):\n",
    "                print(\"*\", end = '')\n",
    "            else:\n",
    "                print(' ', end = '')\n",
    "        print(\" \")\n",
    "\n",
    "show_image()\n",
    "show_image()\n",
    "print(show_image)\n",
    "print(show_image())\n",
    "\n",
    "\n",
    "    \n"
   ]
  },
  {
   "cell_type": "code",
   "execution_count": 23,
   "id": "220307e2",
   "metadata": {},
   "outputs": [
    {
     "ename": "SyntaxError",
     "evalue": "invalid syntax (<ipython-input-23-0a83fd9409e6>, line 30)",
     "output_type": "error",
     "traceback": [
      "\u001b[1;36m  File \u001b[1;32m\"<ipython-input-23-0a83fd9409e6>\"\u001b[1;36m, line \u001b[1;32m30\u001b[0m\n\u001b[1;33m    Hello_me(, \"@\")\u001b[0m\n\u001b[1;37m             ^\u001b[0m\n\u001b[1;31mSyntaxError\u001b[0m\u001b[1;31m:\u001b[0m invalid syntax\n"
     ]
    }
   ],
   "source": [
    "\n",
    "# parameters and arguments\n",
    "\n",
    "#parameters: Are define time named value type: These are used when we define a function. \n",
    "\n",
    "\n",
    "# Define time .. \n",
    "def say_hello(name, emoji):  # it return None by default\n",
    "    print(f\"Hello {name}  {emoji}\")\n",
    "    \n",
    "# default parameters: When you pass a default value to the respective parameters during define time of a function. \n",
    "def Hello_me(name = \"Girish\", emoji = \":) :)\"):  # it return None by default\n",
    "    print(f\"Hello {name}  {emoji}\")\n",
    "\n",
    "\n",
    "    \n",
    "# call or invoke the function\n",
    "\n",
    "#arguments: Are values we pass during function call to those parameters. \n",
    "say_hello(\"Girish\", \":)\") #Here values being passed are passed as positional arguments. \n",
    "\n",
    "say_hello(\":)\", \"Girish\") # see the effect if values are changed\n",
    "\n",
    "say_hello(emoji = \":(\", name = \"myname\") #these are called keyword arguments as we are passing the values to the keywords already defined as parameters of the function. \n",
    "# But this is a wrong programming practice. You should pass the values to the parameters in the same order. \n",
    "\n",
    "say_hello(name = \"Girish\", emoji = \":)\")\n",
    "\n",
    "Hello_me(\"Aishwarya\", \"@\")\n",
    "Hello_me(\"Aishwarya\") # you can omit either both the parameters or the second parameter but not the first one. \n",
    "Hello_me()\n",
    "# Hello_me(, \"@\") #This will throw error\n",
    "          "
   ]
  },
  {
   "cell_type": "code",
   "execution_count": 29,
   "id": "9ec7dd1e",
   "metadata": {},
   "outputs": [
    {
     "name": "stdout",
     "output_type": "stream",
     "text": [
      "9\n",
      "-1\n"
     ]
    }
   ],
   "source": [
    "#Return value of a function other then None (Default)\n",
    "#Good practice rules: \n",
    "    #Function should do at least one thing really well\n",
    "    #Function should return something\n",
    "\n",
    "def calculate(first = 0, operator = \"+\", second = 0):\n",
    "    if operator == \"+\":\n",
    "        return(first + second)\n",
    "    elif operator == \"-\":\n",
    "        return(first - second)\n",
    "    else:\n",
    "        print(\"nothing\")\n",
    "\n",
    "\n",
    "print(calculate(4,\"+\", 5))\n",
    "print(calculate(4,\"-\", 5))"
   ]
  },
  {
   "cell_type": "code",
   "execution_count": 46,
   "id": "cf43331e",
   "metadata": {},
   "outputs": [
    {
     "name": "stdout",
     "output_type": "stream",
     "text": [
      "Help on function test in module __main__:\n",
      "\n",
      "test()\n",
      "    test(obj)\n",
      "    This function is used to test the peace of code written well\n",
      "\n",
      " \n",
      "    test(obj)\n",
      "    This function is used to test the peace of code written well\n",
      "Help on built-in function len in module builtins:\n",
      "\n",
      "len(obj, /)\n",
      "    Return the number of items in a container.\n",
      "\n",
      "Return the number of items in a container.\n",
      "Help on built-in function print in module builtins:\n",
      "\n",
      "print(...)\n",
      "    print(value, ..., sep=' ', end='\\n', file=sys.stdout, flush=False)\n",
      "    \n",
      "    Prints the values to a stream, or to sys.stdout by default.\n",
      "    Optional keyword arguments:\n",
      "    file:  a file-like object (stream); defaults to the current sys.stdout.\n",
      "    sep:   string inserted between values, default a space.\n",
      "    end:   string appended after the last value, default a newline.\n",
      "    flush: whether to forcibly flush the stream.\n",
      "\n",
      "print(value, ..., sep=' ', end='\\n', file=sys.stdout, flush=False)\n",
      "\n",
      "Prints the values to a stream, or to sys.stdout by default.\n",
      "Optional keyword arguments:\n",
      "file:  a file-like object (stream); defaults to the current sys.stdout.\n",
      "sep:   string inserted between values, default a space.\n",
      "end:   string appended after the last value, default a newline.\n",
      "flush: whether to forcibly flush the stream.\n"
     ]
    }
   ],
   "source": [
    "#Createing Doc string and very useful features\n",
    "def test():\n",
    "    ''' \n",
    "    test(obj)\n",
    "    This function is used to test the peace of code written well'''\n",
    "    None\n",
    "    \n",
    "\n",
    "help(test)\n",
    "print(test.__doc__)\n",
    "# Look at same for built in functins. \n",
    "\n",
    "help(len)\n",
    "print(len.__doc__)\n",
    "help(print)\n",
    "print(print.__doc__)"
   ]
  },
  {
   "cell_type": "code",
   "execution_count": 49,
   "id": "2d1d1e15",
   "metadata": {},
   "outputs": [
    {
     "name": "stdout",
     "output_type": "stream",
     "text": [
      "(1, 2, 3, 4, 5, 6)\n",
      "1 2 3 4 5 6\n",
      "{'num1': 10, 'nun2': 20}\n",
      "num1 nun2\n"
     ]
    },
    {
     "data": {
      "text/plain": [
       "51"
      ]
     },
     "execution_count": 49,
     "metadata": {},
     "output_type": "execute_result"
    }
   ],
   "source": [
    "# till now we learnt about parameters, default parameters, now learn -- another types of parameters are args and kwargs. \n",
    "def super_func(*args, **kwargs):\n",
    "    ''' Return summation of all the arguments passed'''\n",
    "    total = 0\n",
    "    print(args) # This tells that args is a tuple of values \n",
    "    print(*args) # This prints actual values.\n",
    "    print(kwargs) # This tells that kwargs is a dictionary\n",
    "    print(*kwargs)#This will only return keys of the dictionary\n",
    "    for items in kwargs.values():\n",
    "        total += items\n",
    "        \n",
    "    return (sum(args)+total)\n",
    "\n",
    "super_func(1,2,3,4,5,6, num1 = 10, nun2 = 20)"
   ]
  },
  {
   "cell_type": "code",
   "execution_count": 4,
   "id": "cb672027",
   "metadata": {},
   "outputs": [
    {
     "name": "stdout",
     "output_type": "stream",
     "text": [
      "100\n",
      "10\n",
      "None\n"
     ]
    },
    {
     "ename": "NameError",
     "evalue": "name 'child' is not defined",
     "output_type": "error",
     "traceback": [
      "\u001b[1;31m---------------------------------------------------------------------------\u001b[0m",
      "\u001b[1;31mNameError\u001b[0m                                 Traceback (most recent call last)",
      "\u001b[1;32m<ipython-input-4-89c0350a4a06>\u001b[0m in \u001b[0;36m<module>\u001b[1;34m\u001b[0m\n\u001b[0;32m     15\u001b[0m \u001b[0mprint\u001b[0m\u001b[1;33m(\u001b[0m\u001b[0ma\u001b[0m\u001b[1;33m)\u001b[0m\u001b[1;33m\u001b[0m\u001b[1;33m\u001b[0m\u001b[0m\n\u001b[0;32m     16\u001b[0m \u001b[0mprint\u001b[0m\u001b[1;33m(\u001b[0m\u001b[0mparent\u001b[0m\u001b[1;33m(\u001b[0m\u001b[1;33m)\u001b[0m\u001b[1;33m)\u001b[0m\u001b[1;33m\u001b[0m\u001b[1;33m\u001b[0m\u001b[0m\n\u001b[1;32m---> 17\u001b[1;33m \u001b[0mprint\u001b[0m\u001b[1;33m(\u001b[0m\u001b[0mchild\u001b[0m\u001b[1;33m(\u001b[0m\u001b[1;33m)\u001b[0m\u001b[1;33m)\u001b[0m\u001b[1;33m\u001b[0m\u001b[1;33m\u001b[0m\u001b[0m\n\u001b[0m\u001b[0;32m     18\u001b[0m \u001b[1;33m\u001b[0m\u001b[0m\n",
      "\u001b[1;31mNameError\u001b[0m: name 'child' is not defined"
     ]
    }
   ],
   "source": [
    "# scope of a variable\n",
    "# Rule to check the scope:  \n",
    "#1: Start with local? \n",
    "#2: Parent local?\n",
    "#3: Is it global? \n",
    "#4: Is it built in python? \n",
    "#5: Parameter are considered as local function.\n",
    "#6. USe Global keyword to use the already declared global variable. But better do not use this approach\n",
    "\n",
    "a = 100\n",
    "def parent():\n",
    "    a = 10 \n",
    "    def child():\n",
    "        a = 5\n",
    "        return child()\n",
    "    print(a)\n",
    "print(a)\n",
    "print(parent())\n",
    "\n",
    "\n"
   ]
  },
  {
   "cell_type": "code",
   "execution_count": 6,
   "id": "1677562e",
   "metadata": {},
   "outputs": [
    {
     "name": "stdout",
     "output_type": "stream",
     "text": [
      "inner  Another string\n",
      "outer local\n"
     ]
    }
   ],
   "source": [
    "#nonlocal\n",
    "# scope - what variable do I need to have access to? \n",
    "def outer():\n",
    "    x = \"local\"\n",
    "    def inner():\n",
    "        nonlocal x #Comment and uncomment it to see the difference. \n",
    "        x = \"Another string\"\n",
    "        print(\"inner \", x)\n",
    "    inner()\n",
    "    print(\"outer\", x)\n",
    "    \n",
    "outer()"
   ]
  },
  {
   "cell_type": "code",
   "execution_count": null,
   "id": "6f774bfa",
   "metadata": {},
   "outputs": [],
   "source": []
  }
 ],
 "metadata": {
  "kernelspec": {
   "display_name": "Python 3",
   "language": "python",
   "name": "python3"
  },
  "language_info": {
   "codemirror_mode": {
    "name": "ipython",
    "version": 3
   },
   "file_extension": ".py",
   "mimetype": "text/x-python",
   "name": "python",
   "nbconvert_exporter": "python",
   "pygments_lexer": "ipython3",
   "version": "3.9.4"
  }
 },
 "nbformat": 4,
 "nbformat_minor": 5
}
