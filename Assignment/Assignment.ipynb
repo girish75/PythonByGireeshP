{
 "cells": [
  {
   "cell_type": "code",
   "execution_count": 1,
   "id": "ed9f73a0",
   "metadata": {},
   "outputs": [
    {
     "name": "stdout",
     "output_type": "stream",
     "text": [
      "Enter User namegirish\n",
      "Enter Passwordgirish\n",
      "For User name girish your password ****** length is 6 \n"
     ]
    }
   ],
   "source": [
    "Assignment #1\n",
    "username = str(input(\"Enter User name\"))\n",
    "password = str(input(\"Enter Password\"))\n",
    "len_password = len(password)\n",
    "secure_password = '*' * len_password\n",
    "\n",
    "print(f'For User name {username} your password {secure_password} length is {len_password} ')"
   ]
  },
  {
   "cell_type": "code",
   "execution_count": null,
   "id": "48bb53d0",
   "metadata": {},
   "outputs": [],
   "source": []
  }
 ],
 "metadata": {
  "kernelspec": {
   "display_name": "Python 3",
   "language": "python",
   "name": "python3"
  },
  "language_info": {
   "codemirror_mode": {
    "name": "ipython",
    "version": 3
   },
   "file_extension": ".py",
   "mimetype": "text/x-python",
   "name": "python",
   "nbconvert_exporter": "python",
   "pygments_lexer": "ipython3",
   "version": "3.9.4"
  }
 },
 "nbformat": 4,
 "nbformat_minor": 5
}
