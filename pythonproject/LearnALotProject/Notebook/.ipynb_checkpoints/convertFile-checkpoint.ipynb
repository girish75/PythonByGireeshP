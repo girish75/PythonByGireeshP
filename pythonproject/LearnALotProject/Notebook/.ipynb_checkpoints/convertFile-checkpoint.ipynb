{
 "cells": [
  {
   "cell_type": "code",
   "execution_count": null,
   "id": "09e5dd5a",
   "metadata": {},
   "outputs": [],
   "source": [
    "import os, sys\n",
    "from PIL import Image\n",
    "\n",
    "for infile in sys.argv[1:]:\n",
    "    f, e = os.path.splitext(infile)\n",
    "    outfile = f + \".jpg\"\n",
    "    if infile != outfile:\n",
    "        try:\n",
    "            with Image.open(infile) as im:\n",
    "                im.save(outfile)\n",
    "        except OSError:\n",
    "            print(\"cannot convert\", infile)"
   ]
  }
 ],
 "metadata": {
  "kernelspec": {
   "display_name": "Python 3",
   "language": "python",
   "name": "python3"
  },
  "language_info": {
   "codemirror_mode": {
    "name": "ipython",
    "version": 3
   },
   "file_extension": ".py",
   "mimetype": "text/x-python",
   "name": "python",
   "nbconvert_exporter": "python",
   "pygments_lexer": "ipython3",
   "version": "3.9.4"
  }
 },
 "nbformat": 4,
 "nbformat_minor": 5
}
